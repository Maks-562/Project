{
 "cells": [
  {
   "cell_type": "code",
   "execution_count": 1,
   "id": "8700174f",
   "metadata": {},
   "outputs": [],
   "source": [
    "import DMN3 as DMN\n",
    "from matplotlib import pyplot as plt\n",
    "import numpy as np\n",
    "from helperfuncs import *"
   ]
  },
  {
   "cell_type": "code",
   "execution_count": 2,
   "id": "030c8b58",
   "metadata": {},
   "outputs": [],
   "source": [
    "node = DMN.Node(np.ones(6)*2)\n",
    "node.compliance\n",
    "node.rotated_compliance = node.compliance\n",
    "p1 = np.array([0.7243458035427647,-0.6624489424587073,0.0,0.7243458035427647,0.0,2.7735894920029462])\n",
    "p2 = np.array([0.36757546481294456,-0.16233746963686535,0.0,0.3675754648129446,0.0,1.05982586889962])\n",
    "\n",
    "node.left = DMN.Node(p1)\n",
    "node.right = DMN.Node(p2)\n",
    "\n",
    "node.right.rotated_compliance = node.right.compliance\n",
    "node.left.rotated_compliance = node.left.compliance\n",
    "\n",
    "node.rotated_compliance = homogenise(node.left.rotated_compliance, node.right.rotated_compliance,0.2,0.8)"
   ]
  },
  {
   "cell_type": "code",
   "execution_count": 3,
   "id": "c8d30e23",
   "metadata": {},
   "outputs": [],
   "source": [
    "node.delta_sigma = np.ones(3)*2\n",
    "DMN.update_stress(node)\n",
    "\n"
   ]
  },
  {
   "cell_type": "code",
   "execution_count": 4,
   "id": "04f8f40c",
   "metadata": {},
   "outputs": [
    {
     "data": {
      "text/plain": [
       "array([2.21854509, 2.        , 2.        ])"
      ]
     },
     "execution_count": 4,
     "metadata": {},
     "output_type": "execute_result"
    }
   ],
   "source": [
    "node.right.delta_sigma"
   ]
  },
  {
   "cell_type": "code",
   "execution_count": 5,
   "id": "8d0bd16c",
   "metadata": {},
   "outputs": [
    {
     "data": {
      "text/plain": [
       "array([1.12581965, 2.        , 2.        ])"
      ]
     },
     "execution_count": 5,
     "metadata": {},
     "output_type": "execute_result"
    }
   ],
   "source": [
    "node.left.delta_sigma"
   ]
  },
  {
   "cell_type": "code",
   "execution_count": 6,
   "id": "8d16081e",
   "metadata": {},
   "outputs": [
    {
     "data": {
      "text/plain": [
       "(array([[ 0.40774137, -0.218641  ,  0.        ],\n",
       "        [-0.218641  ,  0.3776457 ,  0.        ],\n",
       "        [ 0.        ,  0.        ,  1.40257859]]),\n",
       " array([[ 0.40774137, -0.218641  ,  0.        ],\n",
       "        [-0.218641  ,  0.3776457 ,  0.        ],\n",
       "        [ 0.        ,  0.        ,  1.40257859]]))"
      ]
     },
     "execution_count": 6,
     "metadata": {},
     "output_type": "execute_result"
    }
   ],
   "source": [
    "DMN.calc_elasto_plastic_operator(node),convert_vectorised(node.rotated_compliance)"
   ]
  },
  {
   "cell_type": "code",
   "execution_count": null,
   "id": "4de005ce",
   "metadata": {},
   "outputs": [],
   "source": []
  },
  {
   "cell_type": "code",
   "execution_count": 7,
   "id": "15efb435",
   "metadata": {},
   "outputs": [],
   "source": [
    "res1 = np.ones((3,))* 2\n",
    "res2 = np.ones((3,))  * 4"
   ]
  },
  {
   "cell_type": "code",
   "execution_count": 8,
   "id": "c088f5f3",
   "metadata": {},
   "outputs": [
    {
     "data": {
      "text/plain": [
       "array([3.32673632, 2.54198944, 3.        ])"
      ]
     },
     "execution_count": 8,
     "metadata": {},
     "output_type": "execute_result"
    }
   ],
   "source": [
    "homogenise_res(node.left.rotated_compliance,node.right.rotated_compliance,0.5,0.5,res1,res2)"
   ]
  },
  {
   "cell_type": "code",
   "execution_count": 9,
   "id": "b090ea9f",
   "metadata": {},
   "outputs": [],
   "source": [
    "Model = DMN.Tree(3)\n",
    "root = Model.initialise()\n",
    "\n",
    "Model.propagate_weights(root)\n",
    "Model.initialise_bottom_layer(root,p1,p2)\n"
   ]
  },
  {
   "cell_type": "code",
   "execution_count": 10,
   "id": "d5ea5382",
   "metadata": {},
   "outputs": [],
   "source": [
    "Model.homogenise_system_res(root,p1,p2)\n"
   ]
  },
  {
   "cell_type": "code",
   "execution_count": 11,
   "id": "5a7d3485",
   "metadata": {},
   "outputs": [
    {
     "data": {
      "text/plain": [
       "(array([-0.45275237,  0.25670246, -0.1834193 ]), array([0., 0., 0.]))"
      ]
     },
     "execution_count": 11,
     "metadata": {},
     "output_type": "execute_result"
    }
   ],
   "source": [
    "root.res_strain,root.delta_eps"
   ]
  },
  {
   "cell_type": "code",
   "execution_count": 12,
   "id": "13d3154c",
   "metadata": {},
   "outputs": [],
   "source": [
    "root.sigma = np.array([1,2,3])\n",
    "Model.backwards_pass(root)"
   ]
  },
  {
   "cell_type": "code",
   "execution_count": 13,
   "id": "81fcb958",
   "metadata": {},
   "outputs": [],
   "source": [
    "bottom_node = Model.fetch_node(root,3,6)"
   ]
  },
  {
   "cell_type": "code",
   "execution_count": 14,
   "id": "c5caed31",
   "metadata": {},
   "outputs": [
    {
     "name": "stdout",
     "output_type": "stream",
     "text": [
      "0.39871511512508495 0.39871511512508506\n"
     ]
    }
   ],
   "source": [
    "bottom_node.delta_sigma,bottom_node.delta_eps\n",
    "\n",
    "\n",
    "DMN.return_mapping(root)"
   ]
  },
  {
   "cell_type": "code",
   "execution_count": 18,
   "id": "85276579",
   "metadata": {},
   "outputs": [],
   "source": [
    "from DMN3 import xi\n",
    "\n",
    "# def xi(node,delta_gamma):\n",
    "#     D = convert_vectorised(node.rotated_compliance)\n",
    "#     A = np.linalg.inv(D + delta_gamma *P)@ D\n",
    "#     sigma = node.sigma\n",
    "    \n",
    "#     return sigma.T @A.T@P@A@sigma\n",
    "    \n",
    "def xi_prime_finite_diff(node,delta_gamma,delta=1e-6,sigma_trial=np.zeros((3,))):\n",
    "   \n",
    "    return (xi(node,delta_gamma + delta,sigma_trial) - xi(node,delta_gamma - delta,sigma_trial))/(2*delta)\n",
    "\n",
    "def xi_prime_ana(node,delta_gamma,sigma_trial=np.zeros((3,))):\n",
    "    D = convert_vectorised(node.rotated_compliance)\n",
    "    C = np.linalg.inv(D)\n",
    "    A = np.linalg.inv(D + delta_gamma *P)@ D\n",
    "    \n",
    "    middle_mat = P.T @C.T@ A.T + P@A@C\n",
    "\n",
    "\n",
    "    return -sigma_trial.T@A.T@middle_mat@P@A@sigma_trial\n"
   ]
  },
  {
   "cell_type": "code",
   "execution_count": null,
   "id": "3219d844",
   "metadata": {},
   "outputs": [
    {
     "name": "stderr",
     "output_type": "stream",
     "text": [
      "/tmp/ipykernel_143011/3525872407.py:12: UserWarning: Data has no positive values, and therefore cannot be log-scaled.\n",
      "  plt.yscale('log')\n"
     ]
    },
    {
     "data": {
      "image/png": "[encoded data removed]",
      "text/plain": [
       "<Figure size 640x480 with 1 Axes>"
      ]
     },
     "metadata": {},
     "output_type": "display_data"
    }
   ],
   "source": [
    "import timeit\n",
    "\n",
    "gamma = .23123\n",
    "deltas = np.logspace(-10,-3,100)\n",
    "res = np.zeros_like(deltas)\n",
    "\n",
    "\n",
    "sigma_trial = np.array([1,2,3])\n",
    "for index,delta in enumerate(deltas):\n",
    "    res[index] = abs(xi_prime_finite_diff(root,gamma,delta,sigma_trial)-xi_prime_ana(root,gamma,sigma_trial))/abs(xi_prime_ana(root,gamma,sigma_trial))\n",
    "\n",
    "plt.plot(deltas,res,marker='o',label='Finite Difference')\n",
    "plt.xscale('log')\n",
    "plt.yscale('log')\n",
    "\n",
    "\n",
    "# t1 = timeit.timeit(lambda: xi_prime_finite_diff(root,gamma,1e-6))\n",
    "# t2 = timeit.timeit(lambda: xi_prime_ana(root,gamma))\n"
   ]
  },
  {
   "cell_type": "code",
   "execution_count": null,
   "id": "563b068a",
   "metadata": {},
   "outputs": [],
   "source": [
    "# t1, t2"
   ]
  },
  {
   "cell_type": "code",
   "execution_count": null,
   "id": "9b1de66a",
   "metadata": {},
   "outputs": [],
   "source": []
  }
 ],
 "metadata": {
  "kernelspec": {
   "display_name": "fenicsx-env",
   "language": "python",
   "name": "python3"
  },
  "language_info": {
   "codemirror_mode": {
    "name": "ipython",
    "version": 3
   },
   "file_extension": ".py",
   "mimetype": "text/x-python",
   "name": "python",
   "nbconvert_exporter": "python",
   "pygments_lexer": "ipython3",
   "version": "3.13.2"
  }
 },
 "nbformat": 4,
 "nbformat_minor": 5
}
