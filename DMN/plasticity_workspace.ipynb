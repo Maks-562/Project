{
 "cells": [
  {
   "cell_type": "code",
   "execution_count": 1,
   "id": "8700174f",
   "metadata": {},
   "outputs": [],
   "source": [
    "import DMN3 as DMN\n",
    "from matplotlib import pyplot as plt\n",
    "import numpy as np\n",
    "from helperfuncs import *\n",
    "import pandas as pd\n"
   ]
  },
  {
   "cell_type": "code",
   "execution_count": 2,
   "id": "86af25e4",
   "metadata": {},
   "outputs": [],
   "source": [
    "\n",
    "def elasticity_matrix(E, nu):\n",
    "    # plane strain elasticity matrix\n",
    "    Ce = np.array([[1 - nu, nu, 0], [nu, 1 - nu, 0], [0, 0, (1 - 2 * nu)/2 ]])\n",
    "    Ce *= E / ((1 - 2 * nu) * (1 + nu))\n",
    "\n",
    "    return Ce"
   ]
  },
  {
   "cell_type": "code",
   "execution_count": 3,
   "id": "030c8b58",
   "metadata": {},
   "outputs": [],
   "source": [
    "# node = DMN.Node(np.ones(6)*2)\n",
    "# node.compliance\n",
    "# node.rotated_compliance = node.compliance\n",
    "# p1 = np.array([0.7243458035427647,-0.6624489424587073,0.0,0.7243458035427647,0.0,2.7735894920029462])\n",
    "# p2 = np.array([0.36757546481294456,-0.16233746963686535,0.0,0.3675754648129446,0.0,1.05982586889962])\n",
    "\n",
    "data = pd.read_csv(\"data/building_block_data.csv\",header=None)\n",
    "data = data.to_numpy()\n",
    "# data[0]\n",
    "\n",
    "which = 52\n",
    "# p1 = data[which][0:6]\n",
    "# p2 = data[which][6:12]\n",
    "# p3 = data[which][12:18]\n",
    "\n",
    "p2 = convert_matrix(np.linalg.inv(elasticity_matrix(100*10**9,0.3)))*(10**9)\n",
    "p1 = convert_matrix(np.linalg.inv(elasticity_matrix(200*10**9,0.3)))*(10**9)\n",
    "# print(p1, p2)\n",
    "# node.left = DMN.Node(p1)\n",
    "# node.right = DMN.Node(p2)\n",
    "\n",
    "# node.right.rotated_compliance = node.right.compliance\n",
    "# node.left.rotated_compliance = node.left.compliance\n",
    "\n",
    "# node.rotated_compliance = homogenise(node.left.rotated_compliance, node.right.rotated_compliance,0.2,0.8)"
   ]
  },
  {
   "cell_type": "code",
   "execution_count": 4,
   "id": "64637671",
   "metadata": {},
   "outputs": [],
   "source": [
    "loading_path = np.linspace(0,0.05,150)\n",
    "Model = DMN.Tree(5)\n",
    "\n",
    "metadata,training_error,validation_error,root = DMN.load_model('models/model_N=5.pkl')\n",
    "\n",
    "# root = Model.initialise(num_loading_steps=len(loading_path))\n",
    "\n",
    "Model.propagate_weights(root)\n",
    "Model.initialise_bottom_layer(root,p1,p2)\n",
    "# print(loading_path)\n",
    "Model.FeedForward(root,p1,p2)\n",
    "Model.plasticity_loader(root,loading_path)\n",
    "\n"
   ]
  },
  {
   "cell_type": "code",
   "execution_count": 5,
   "id": "90b25041",
   "metadata": {},
   "outputs": [
    {
     "name": "stdout",
     "output_type": "stream",
     "text": [
      "[[ 0.16200644  0.04785389 -0.03115547]\n",
      " [ 0.04785389  0.1420378  -0.00475383]\n",
      " [-0.03115547 -0.00475383  0.14097195]]\n",
      "original [[ 0.00455 -0.00195  0.     ]\n",
      " [-0.00195  0.00455  0.     ]\n",
      " [ 0.       0.       0.013  ]]\n",
      "Final stress: [ 0.35795792 -0.118085    0.07512835]\n"
     ]
    }
   ],
   "source": [
    "# Model.FeedForward(root,p1,p2)\n",
    "print((convert_vectorised(root.rotated_compliance)))\n",
    "print('original',convert_vectorised(p1))\n",
    "final_stress= np.linalg.inv(convert_vectorised(root.rotated_compliance)) @ root.epss[-1]\n",
    "\n",
    "print(\"Final stress:\",final_stress)\n",
    "\n"
   ]
  },
  {
   "cell_type": "markdown",
   "id": "02c964ca",
   "metadata": {},
   "source": []
  },
  {
   "cell_type": "code",
   "execution_count": 6,
   "id": "c5813356",
   "metadata": {},
   "outputs": [
    {
     "data": {
      "text/plain": [
       "Text(0, 0.5, '$\\\\sigma_1$ (GPa)')"
      ]
     },
     "execution_count": 6,
     "metadata": {},
     "output_type": "execute_result"
    },
    {
     "data": {
      "image/png": "[encoded data removed]",
      "text/plain": [
       "<Figure size 640x480 with 1 Axes>"
      ]
     },
     "metadata": {},
     "output_type": "display_data"
    }
   ],
   "source": [
    "bottom_node = Model.fetch_node(root,3,31)\n",
    "\n",
    "R = 150\n",
    "L = 0\n",
    "plt.plot(root.epss[L:R,0],root.sigmas[L:R,0],label='sigma_1',marker = 'x')\n",
    "plt.xlabel(r'$\\epsilon_1$ (a.u)')\n",
    "plt.ylabel(r'$\\sigma_1$ (GPa)')\n"
   ]
  },
  {
   "cell_type": "code",
   "execution_count": 7,
   "id": "10130cc0",
   "metadata": {},
   "outputs": [
    {
     "ename": "AttributeError",
     "evalue": "'Node' object has no attribute 'effective_plastic_strain'",
     "output_type": "error",
     "traceback": [
      "\u001b[0;31m---------------------------------------------------------------------------\u001b[0m",
      "\u001b[0;31mAttributeError\u001b[0m                            Traceback (most recent call last)",
      "Cell \u001b[0;32mIn[7], line 4\u001b[0m\n\u001b[1;32m      1\u001b[0m bottom_node \u001b[38;5;241m=\u001b[39m Model\u001b[38;5;241m.\u001b[39mfetch_node(root,\u001b[38;5;241m3\u001b[39m,\u001b[38;5;241m6\u001b[39m)\n\u001b[1;32m      3\u001b[0m root\u001b[38;5;241m.\u001b[39mdelta_sigma,root\u001b[38;5;241m.\u001b[39mres_strain\n\u001b[0;32m----> 4\u001b[0m \u001b[43mbottom_node\u001b[49m\u001b[38;5;241;43m.\u001b[39;49m\u001b[43meffective_plastic_strain\u001b[49m, bottom_node\u001b[38;5;241m.\u001b[39meffective_plastic_strain\n",
      "\u001b[0;31mAttributeError\u001b[0m: 'Node' object has no attribute 'effective_plastic_strain'"
     ]
    }
   ],
   "source": [
    "bottom_node = Model.fetch_node(root,3,6)\n",
    "\n",
    "root.delta_sigma,root.res_strain\n",
    "bottom_node.effective_plastic_strain, bottom_node.effective_plastic_strain"
   ]
  },
  {
   "cell_type": "code",
   "execution_count": null,
   "id": "593739cb",
   "metadata": {},
   "outputs": [],
   "source": [
    "for i in range(1,9):\n",
    "    bottom_node = Model.fetch_node(root,4,i)\n",
    "    print(bottom_node.eff_plas_strain)\n",
    "   "
   ]
  },
  {
   "cell_type": "code",
   "execution_count": null,
   "id": "e3508bce",
   "metadata": {},
   "outputs": [],
   "source": []
  },
  {
   "cell_type": "code",
   "execution_count": null,
   "id": "5d1e4288",
   "metadata": {},
   "outputs": [],
   "source": []
  },
  {
   "cell_type": "code",
   "execution_count": null,
   "id": "8c8f15c5",
   "metadata": {},
   "outputs": [],
   "source": []
  },
  {
   "cell_type": "code",
   "execution_count": null,
   "id": "b983fdec",
   "metadata": {},
   "outputs": [],
   "source": []
  }
 ],
 "metadata": {
  "kernelspec": {
   "display_name": "fenicsx-env",
   "language": "python",
   "name": "python3"
  },
  "language_info": {
   "codemirror_mode": {
    "name": "ipython",
    "version": 3
   },
   "file_extension": ".py",
   "mimetype": "text/x-python",
   "name": "python",
   "nbconvert_exporter": "python",
   "pygments_lexer": "ipython3",
   "version": "3.13.2"
  }
 },
 "nbformat": 4,
 "nbformat_minor": 5
}
