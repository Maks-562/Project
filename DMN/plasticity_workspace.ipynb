{
 "cells": [
  {
   "cell_type": "code",
   "execution_count": null,
   "id": "8700174f",
   "metadata": {},
   "outputs": [
    {
     "ename": "ModuleNotFoundError",
     "evalue": "No module named 'helperfuncs'",
     "output_type": "error",
     "traceback": [
      "\u001b[0;31m---------------------------------------------------------------------------\u001b[0m",
      "\u001b[0;31mModuleNotFoundError\u001b[0m                       Traceback (most recent call last)",
      "Cell \u001b[0;32mIn[1], line 4\u001b[0m\n\u001b[1;32m      2\u001b[0m \u001b[38;5;28;01mfrom\u001b[39;00m\u001b[38;5;250m \u001b[39m\u001b[38;5;21;01mmatplotlib\u001b[39;00m\u001b[38;5;250m \u001b[39m\u001b[38;5;28;01mimport\u001b[39;00m pyplot \u001b[38;5;28;01mas\u001b[39;00m plt\n\u001b[1;32m      3\u001b[0m \u001b[38;5;28;01mimport\u001b[39;00m\u001b[38;5;250m \u001b[39m\u001b[38;5;21;01mnumpy\u001b[39;00m\u001b[38;5;250m \u001b[39m\u001b[38;5;28;01mas\u001b[39;00m\u001b[38;5;250m \u001b[39m\u001b[38;5;21;01mnp\u001b[39;00m\n\u001b[0;32m----> 4\u001b[0m \u001b[38;5;28;01mfrom\u001b[39;00m\u001b[38;5;250m \u001b[39m\u001b[38;5;21;01mhelperfuncs\u001b[39;00m\u001b[38;5;250m \u001b[39m\u001b[38;5;28;01mimport\u001b[39;00m \u001b[38;5;241m*\u001b[39m\n\u001b[1;32m      5\u001b[0m \u001b[38;5;28;01mimport\u001b[39;00m\u001b[38;5;250m \u001b[39m\u001b[38;5;21;01mpandas\u001b[39;00m\u001b[38;5;250m \u001b[39m\u001b[38;5;28;01mas\u001b[39;00m\u001b[38;5;250m \u001b[39m\u001b[38;5;21;01mpd\u001b[39;00m\n",
      "\u001b[0;31mModuleNotFoundError\u001b[0m: No module named 'helperfuncs'"
     ]
    }
   ],
   "source": [
    "import DMN3 as DMN\n",
    "from matplotlib import pyplot as plt\n",
    "import numpy as np\n",
    "from DMN_funcs import *\n",
    "import pandas as pd\n"
   ]
  },
  {
   "cell_type": "code",
   "execution_count": null,
   "id": "86af25e4",
   "metadata": {},
   "outputs": [],
   "source": [
    "\n",
    "def elasticity_matrix(E, nu):\n",
    "    # plane strain elasticity matrix\n",
    "    Ce = np.array([[1 - nu, nu, 0], [nu, 1 - nu, 0], [0, 0, (1 - 2 * nu)/2 ]])\n",
    "    Ce *= E / ((1 - 2 * nu) * (1 + nu))\n",
    "\n",
    "    return Ce"
   ]
  },
  {
   "cell_type": "code",
   "execution_count": null,
   "id": "030c8b58",
   "metadata": {},
   "outputs": [],
   "source": [
    "# node = DMN.Node(np.ones(6)*2)\n",
    "# node.compliance\n",
    "# node.rotated_compliance = node.compliance\n",
    "# p1 = np.array([0.7243458035427647,-0.6624489424587073,0.0,0.7243458035427647,0.0,2.7735894920029462])\n",
    "# p2 = np.array([0.36757546481294456,-0.16233746963686535,0.0,0.3675754648129446,0.0,1.05982586889962])\n",
    "\n",
    "data = pd.read_csv(\"data/building_block_data.csv\",header=None)\n",
    "data = data.to_numpy()\n",
    "# data[0]\n",
    "\n",
    "which = 52\n",
    "# p1 = data[which][0:6]\n",
    "# p2 = data[which][6:12]\n",
    "# p3 = data[which][12:18]\n",
    "\n",
    "p2 = convert_matrix(np.linalg.inv(elasticity_matrix(100*10**9,0.3)))*(10**9)\n",
    "p1 = convert_matrix(np.linalg.inv(elasticity_matrix(300*10**9,0.3)))*(10**9)\n",
    "# print(p1, p2)\n",
    "# node.left = DMN.Node(p1)\n",
    "# node.right = DMN.Node(p2)\n",
    "\n",
    "# node.right.rotated_compliance = node.right.compliance\n",
    "# node.left.rotated_compliance = node.left.compliance\n",
    "\n",
    "# node.rotated_compliance = homogenise(node.left.rotated_compliance, node.right.rotated_compliance,0.2,0.8)"
   ]
  },
  {
   "cell_type": "code",
   "execution_count": null,
   "id": "64637671",
   "metadata": {},
   "outputs": [],
   "source": [
    "loading_path = np.linspace(0,0.05,150)\n",
    "Model = DMN.Tree(5)\n",
    "\n",
    "metadata,training_error,validation_error,root = load_model('models/model_N=5.pkl')\n",
    "\n",
    "# root = Model.initialise(num_loading_steps=len(loading_path))\n",
    "\n",
    "Model.propagate_weights(root)\n",
    "Model.initialise_bottom_layer(root,p1,p2)\n",
    "# print(loading_path)\n",
    "Model.FeedForward(root,p1,p2)\n",
    "Model.plasticity_loader(root,loading_path)\n",
    "\n"
   ]
  },
  {
   "cell_type": "code",
   "execution_count": null,
   "id": "90b25041",
   "metadata": {},
   "outputs": [
    {
     "name": "stdout",
     "output_type": "stream",
     "text": [
      "[[ 0.16031772  0.05033162 -0.03160251]\n",
      " [ 0.05033162  0.14682495 -0.00257309]\n",
      " [-0.03160251 -0.00257309  0.14246475]]\n",
      "original [[ 0.00303333 -0.0013      0.        ]\n",
      " [-0.0013      0.00303333  0.        ]\n",
      " [ 0.          0.          0.00866667]]\n",
      "Final stress: [ 0.36646811 -0.12424002  0.07904853]\n"
     ]
    }
   ],
   "source": [
    "# Model.FeedForward(root,p1,p2)\n",
    "print((convert_vectorised(root.rotated_compliance)))\n",
    "print('original',convert_vectorised(p1))\n",
    "final_stress= np.linalg.inv(convert_vectorised(root.rotated_compliance)) @ root.epss[-1]\n",
    "\n",
    "print(\"Final stress:\",final_stress)\n",
    "\n"
   ]
  },
  {
   "cell_type": "markdown",
   "id": "02c964ca",
   "metadata": {},
   "source": []
  },
  {
   "cell_type": "code",
   "execution_count": null,
   "id": "c5813356",
   "metadata": {},
   "outputs": [
    {
     "data": {
      "text/plain": [
       "Text(0, 0.5, '$\\\\sigma_1$ (GPa)')"
      ]
     },
     "execution_count": 6,
     "metadata": {},
     "output_type": "execute_result"
    },
    {
     "data": {
      "image/png": "[encoded data removed]",
      "text/plain": [
       "<Figure size 640x480 with 1 Axes>"
      ]
     },
     "metadata": {},
     "output_type": "display_data"
    }
   ],
   "source": [
    "bottom_node = Model.fetch_node(root,3,31)\n",
    "\n",
    "R = 150\n",
    "L = 0\n",
    "plt.plot(root.epss[L:R,0],root.sigmas[L:R,0],label='sigma_1',marker = 'x')\n",
    "plt.xlabel(r'$\\epsilon_1$ (a.u)')\n",
    "plt.ylabel(r'$\\sigma_1$ (GPa)')\n"
   ]
  },
  {
   "cell_type": "code",
   "execution_count": null,
   "id": "10130cc0",
   "metadata": {},
   "outputs": [
    {
     "data": {
      "text/plain": [
       "(array([ 0.00089739, -0.00233289,  0.00097654]),\n",
       " array([ 0.00033998,  0.00029987, -0.00011677]))"
      ]
     },
     "execution_count": 7,
     "metadata": {},
     "output_type": "execute_result"
    }
   ],
   "source": [
    "bottom_node = Model.fetch_node(root,3,6)\n",
    "\n",
    "root.delta_sigma,root.res_strain\n"
   ]
  },
  {
   "cell_type": "code",
   "execution_count": null,
   "id": "593739cb",
   "metadata": {},
   "outputs": [
    {
     "name": "stdout",
     "output_type": "stream",
     "text": [
      "0.0006862012739758317\n",
      "0.00043363256105705914\n",
      "0.0006039890019035647\n",
      "0.0006197316731741965\n",
      "0.0006280618898223766\n",
      "0.00043153177422498347\n",
      "0.011187380118470936\n",
      "0.012908441918428498\n"
     ]
    }
   ],
   "source": [
    "for i in range(1,9):\n",
    "    bottom_node = Model.fetch_node(root,5,i)\n",
    "    print(bottom_node.eff_plas_strain)\n",
    "   "
   ]
  },
  {
   "cell_type": "code",
   "execution_count": null,
   "id": "e3508bce",
   "metadata": {},
   "outputs": [],
   "source": []
  },
  {
   "cell_type": "code",
   "execution_count": null,
   "id": "5d1e4288",
   "metadata": {},
   "outputs": [],
   "source": []
  },
  {
   "cell_type": "code",
   "execution_count": null,
   "id": "8c8f15c5",
   "metadata": {},
   "outputs": [],
   "source": []
  },
  {
   "cell_type": "code",
   "execution_count": null,
   "id": "b983fdec",
   "metadata": {},
   "outputs": [],
   "source": []
  }
 ],
 "metadata": {
  "kernelspec": {
   "display_name": "fenicsx-env",
   "language": "python",
   "name": "python3"
  },
  "language_info": {
   "codemirror_mode": {
    "name": "ipython",
    "version": 3
   },
   "file_extension": ".py",
   "mimetype": "text/x-python",
   "name": "python",
   "nbconvert_exporter": "python",
   "pygments_lexer": "ipython3",
   "version": "3.13.2"
  }
 },
 "nbformat": 4,
 "nbformat_minor": 5
}
