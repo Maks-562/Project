{
 "cells": [
  {
   "cell_type": "code",
   "execution_count": 1,
   "id": "8700174f",
   "metadata": {},
   "outputs": [],
   "source": [
    "import DMN3 as DMN\n",
    "from matplotlib import pyplot as plt\n",
    "import numpy as np\n",
    "from helperfuncs import *"
   ]
  },
  {
   "cell_type": "code",
   "execution_count": 2,
   "id": "f3d88fca",
   "metadata": {},
   "outputs": [],
   "source": [
    "node = DMN.Node(np.ones(6)*2)\n",
    "node.compliance\n",
    "node.rotated_compliance = node.compliance\n",
    "\n",
    "node.left = DMN.Node(np.array([0.7243458035427647,-0.6624489424587073,0.0,0.7243458035427647,0.0,2.7735894920029462]))\n",
    "node.right = DMN.Node(np.array([0.36757546481294456,-0.16233746963686535,0.0,0.3675754648129446,0.0,1.05982586889962]))\n",
    "\n",
    "node.right.rotated_compliance = node.right.compliance\n",
    "node.left.rotated_compliance = node.left.compliance\n",
    "\n",
    "node.rotated_compliance = homogenise(node.left.rotated_compliance, node.right.rotated_compliance,0.2,0.8)"
   ]
  },
  {
   "cell_type": "code",
   "execution_count": 3,
   "id": "c8d30e23",
   "metadata": {},
   "outputs": [
    {
     "name": "stdout",
     "output_type": "stream",
     "text": [
      "<DMN3.Node object at 0x7fee99400550>\n",
      "<DMN3.Node object at 0x7fee99400190>\n"
     ]
    }
   ],
   "source": [
    "node.sigma = np.ones(3)*2\n",
    "DMN.update_stress(node)\n",
    "\n"
   ]
  },
  {
   "cell_type": "code",
   "execution_count": 4,
   "id": "04f8f40c",
   "metadata": {},
   "outputs": [
    {
     "data": {
      "text/plain": [
       "array([2.21854509, 2.        , 2.        ])"
      ]
     },
     "execution_count": 4,
     "metadata": {},
     "output_type": "execute_result"
    }
   ],
   "source": [
    "node.right.sigma"
   ]
  },
  {
   "cell_type": "code",
   "execution_count": 5,
   "id": "8d0bd16c",
   "metadata": {},
   "outputs": [
    {
     "data": {
      "text/plain": [
       "array([1.12581965, 2.        , 2.        ])"
      ]
     },
     "execution_count": 5,
     "metadata": {},
     "output_type": "execute_result"
    }
   ],
   "source": [
    "node.left.sigma"
   ]
  },
  {
   "cell_type": "code",
   "execution_count": 6,
   "id": "8d16081e",
   "metadata": {},
   "outputs": [
    {
     "name": "stdout",
     "output_type": "stream",
     "text": [
      "0.06051266315562544 [[14.01714523 14.72461602 10.67732769]\n",
      " [14.72461602 15.46779413 11.21623182]\n",
      " [10.67732769 11.21623182  8.13327712]] [3.74394781 3.93291166 2.8518901 ] [[3.55672645 2.05919527 0.        ]\n",
      " [2.05919527 3.84017222 0.        ]\n",
      " [0.         0.         0.71297252]]\n"
     ]
    },
    {
     "data": {
      "text/plain": [
       "(array([[-5.00399959e+14, -5.00399959e+14, -3.00239975e+15],\n",
       "        [-5.00399959e+14, -5.00399959e+14, -3.00239975e+15],\n",
       "        [-3.00239975e+15, -3.00239975e+15, -1.80143985e+16]]),\n",
       " array([[ 0.40774137, -0.218641  ,  0.        ],\n",
       "        [-0.218641  ,  0.3776457 ,  0.        ],\n",
       "        [ 0.        ,  0.        ,  1.40257859]]))"
      ]
     },
     "execution_count": 6,
     "metadata": {},
     "output_type": "execute_result"
    }
   ],
   "source": [
    "DMN.calc_elasto_plastic_operator(node),convert_vectorised(node.rotated_compliance)"
   ]
  },
  {
   "cell_type": "code",
   "execution_count": null,
   "id": "c088f5f3",
   "metadata": {},
   "outputs": [],
   "source": []
  }
 ],
 "metadata": {
  "kernelspec": {
   "display_name": "fenicsx-env",
   "language": "python",
   "name": "python3"
  },
  "language_info": {
   "codemirror_mode": {
    "name": "ipython",
    "version": 3
   },
   "file_extension": ".py",
   "mimetype": "text/x-python",
   "name": "python",
   "nbconvert_exporter": "python",
   "pygments_lexer": "ipython3",
   "version": "3.13.2"
  }
 },
 "nbformat": 4,
 "nbformat_minor": 5
}
