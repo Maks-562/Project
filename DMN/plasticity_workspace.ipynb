{
 "cells": [
  {
   "cell_type": "code",
   "execution_count": 1,
   "id": "8700174f",
   "metadata": {},
   "outputs": [],
   "source": [
    "import DMN3 as DMN\n",
    "from matplotlib import pyplot as plt\n",
    "import numpy as np\n",
    "from helperfuncs import *\n",
    "import pandas as pd\n"
   ]
  },
  {
   "cell_type": "code",
   "execution_count": 2,
   "id": "86af25e4",
   "metadata": {},
   "outputs": [],
   "source": [
    "\n",
    "def elasticity_matrix(E, nu):\n",
    "    # plane strain elasticity matrix\n",
    "    Ce = np.array([[1 - nu, nu, 0], [nu, 1 - nu, 0], [0, 0, (1 - 2 * nu)/2 ]])\n",
    "    Ce *= E / ((1 - 2 * nu) * (1 + nu))\n",
    "\n",
    "    return Ce"
   ]
  },
  {
   "cell_type": "code",
   "execution_count": 3,
   "id": "030c8b58",
   "metadata": {},
   "outputs": [],
   "source": [
    "# node = DMN.Node(np.ones(6)*2)\n",
    "# node.compliance\n",
    "# node.rotated_compliance = node.compliance\n",
    "# p1 = np.array([0.7243458035427647,-0.6624489424587073,0.0,0.7243458035427647,0.0,2.7735894920029462])\n",
    "# p2 = np.array([0.36757546481294456,-0.16233746963686535,0.0,0.3675754648129446,0.0,1.05982586889962])\n",
    "\n",
    "data = pd.read_csv(\"data/building_block_data.csv\",header=None)\n",
    "data = data.to_numpy()\n",
    "# data[0]\n",
    "\n",
    "# which = 230\n",
    "# p1 = data[which][0:6]\n",
    "# p2 = data[which][6:12]\n",
    "# p3 = data[which][12:18]\n",
    "\n",
    "p2 = convert_matrix(np.linalg.inv(elasticity_matrix(340*10**9,0.3)))*(10**9)\n",
    "p1 = convert_matrix(np.linalg.inv(elasticity_matrix(500*10**9,0.3)))*(10**9)\n",
    "# print(p1, p2)\n",
    "# node.left = DMN.Node(p1)\n",
    "# node.right = DMN.Node(p2)\n",
    "\n",
    "# node.right.rotated_compliance = node.right.compliance\n",
    "# node.left.rotated_compliance = node.left.compliance\n",
    "\n",
    "# node.rotated_compliance = homogenise(node.left.rotated_compliance, node.right.rotated_compliance,0.2,0.8)"
   ]
  },
  {
   "cell_type": "code",
   "execution_count": 4,
   "id": "c8d30e23",
   "metadata": {},
   "outputs": [],
   "source": [
    "# node.delta_sigma = np.ones(3)*2\n"
   ]
  },
  {
   "cell_type": "code",
   "execution_count": 5,
   "id": "04f8f40c",
   "metadata": {},
   "outputs": [],
   "source": [
    "# node.right.delta_sigma"
   ]
  },
  {
   "cell_type": "code",
   "execution_count": 6,
   "id": "8d0bd16c",
   "metadata": {},
   "outputs": [],
   "source": [
    "# node.left.delta_sigma"
   ]
  },
  {
   "cell_type": "code",
   "execution_count": 7,
   "id": "8d16081e",
   "metadata": {},
   "outputs": [],
   "source": [
    "# DMN.calc_elasto_plastic_operator(node),convert_vectorised(node.rotated_compliance)"
   ]
  },
  {
   "cell_type": "code",
   "execution_count": null,
   "id": "4de005ce",
   "metadata": {},
   "outputs": [],
   "source": []
  },
  {
   "cell_type": "code",
   "execution_count": 8,
   "id": "15efb435",
   "metadata": {},
   "outputs": [],
   "source": [
    "# res1 = np.ones((3,))* 2\n",
    "# res2 = np.ones((3,))  * 4"
   ]
  },
  {
   "cell_type": "code",
   "execution_count": 9,
   "id": "c088f5f3",
   "metadata": {},
   "outputs": [],
   "source": [
    "# homogenise_res(node.left.rotated_compliance,node.right.rotated_compliance,0.5,0.5,res1,res2)"
   ]
  },
  {
   "cell_type": "code",
   "execution_count": 10,
   "id": "b090ea9f",
   "metadata": {},
   "outputs": [],
   "source": [
    "# Model = DMN.Tree(3)\n",
    "# root = Model.initialise()\n",
    "\n",
    "# Model.propagate_weights(root)\n",
    "# Model.initialise_bottom_layer(root,p1,p2)\n"
   ]
  },
  {
   "cell_type": "code",
   "execution_count": 11,
   "id": "d5ea5382",
   "metadata": {},
   "outputs": [],
   "source": [
    "# Model.homogenise_system_res(root)\n"
   ]
  },
  {
   "cell_type": "code",
   "execution_count": 12,
   "id": "5a7d3485",
   "metadata": {},
   "outputs": [],
   "source": [
    "# root.res_strain,root.delta_eps"
   ]
  },
  {
   "cell_type": "code",
   "execution_count": null,
   "id": "024f3b20",
   "metadata": {},
   "outputs": [],
   "source": []
  },
  {
   "cell_type": "code",
   "execution_count": 13,
   "id": "13d3154c",
   "metadata": {},
   "outputs": [],
   "source": [
    "# root.sigma = np.array([1,2,3])\n",
    "# Model.backwards_pass(root)"
   ]
  },
  {
   "cell_type": "code",
   "execution_count": 14,
   "id": "81fcb958",
   "metadata": {},
   "outputs": [],
   "source": [
    "# bottom_node = Model.fetch_node(root,3,6)"
   ]
  },
  {
   "cell_type": "code",
   "execution_count": 15,
   "id": "c5caed31",
   "metadata": {},
   "outputs": [],
   "source": [
    "# bottom_node.delta_sigma,bottom_node.delta_eps\n",
    "\n",
    "\n",
    "# DMN.return_mapping(root)"
   ]
  },
  {
   "cell_type": "code",
   "execution_count": 16,
   "id": "85276579",
   "metadata": {},
   "outputs": [],
   "source": [
    "# from DMN3 import xi,evaluate_plastic_state\n",
    "\n",
    "# # def xi(node,delta_gamma):\n",
    "# #     D = convert_vectorised(node.rotated_compliance)\n",
    "# #     A = np.linalg.inv(D + delta_gamma *P)@ D\n",
    "# #     sigma = node.sigma\n",
    "    \n",
    "# #     return sigma.T @A.T@P@A@sigma\n",
    "    \n",
    "# def xi_prime_finite_diff(node,delta_gamma,delta=1e-6,sigma_trial=np.zeros((3,))):\n",
    "   \n",
    "#     return (xi(node,delta_gamma + delta,sigma_trial) - xi(node,delta_gamma - delta,sigma_trial))/(2*delta)\n",
    "\n",
    "# def xi_prime_ana(node,delta_gamma,sigma_trial=np.zeros((3,))):\n",
    "#     D = convert_vectorised(node.rotated_compliance)\n",
    "#     C = np.linalg.inv(D)\n",
    "#     A = np.linalg.inv(D + delta_gamma *P)@ D\n",
    "    \n",
    "#     middle_mat = P.T @C.T@ A.T + P@A@C\n",
    "\n",
    "\n",
    "#     return -sigma_trial.T@A.T@middle_mat@P@A@sigma_trial\n"
   ]
  },
  {
   "cell_type": "code",
   "execution_count": 17,
   "id": "3219d844",
   "metadata": {},
   "outputs": [],
   "source": [
    "# import timeit\n",
    "\n",
    "# gamma = .23123\n",
    "# deltas = np.logspace(-10,-3,100)\n",
    "# res = np.zeros_like(deltas)\n",
    "\n",
    "\n",
    "# sigma_trial = np.array([1,2,3])\n",
    "# for index,delta in enumerate(deltas):\n",
    "#     res[index] = abs(xi_prime_finite_diff(root,gamma,delta,sigma_trial)-xi_prime_ana(root,gamma,sigma_trial))/abs(xi_prime_ana(root,gamma,sigma_trial))\n",
    "\n",
    "# plt.plot(deltas,res,marker='o',label='Finite Difference')\n",
    "# plt.xscale('log')\n",
    "# plt.yscale('log')\n",
    "\n",
    "\n",
    "# t1 = timeit.timeit(lambda: xi_prime_finite_diff(root,gamma,1e-6))\n",
    "# t2 = timeit.timeit(lambda: xi_prime_ana(root,gamma))\n"
   ]
  },
  {
   "cell_type": "code",
   "execution_count": 18,
   "id": "563b068a",
   "metadata": {},
   "outputs": [],
   "source": [
    "# t1, t2"
   ]
  },
  {
   "cell_type": "code",
   "execution_count": 19,
   "id": "9b1de66a",
   "metadata": {},
   "outputs": [],
   "source": [
    "# D = convert_vectorised(node.rotated_compliance)\n",
    "# delta_gamma= evaluate_plastic_state(root,np.array([0,0,0.3]))\n",
    "# A = np.linalg.inv(D + delta_gamma *P)@ D\n",
    "# A@np.array([0,0,0.3])"
   ]
  },
  {
   "cell_type": "code",
   "execution_count": 20,
   "id": "64637671",
   "metadata": {},
   "outputs": [
    {
     "name": "stdout",
     "output_type": "stream",
     "text": [
      "phi 3.023059233497882e-14\n",
      "phi 3.1042009240866975e-14\n",
      "phi 5.778746098826504e-09\n",
      "phi 3.117905239546914e-14\n",
      "phi 9.860516026090338e-09\n",
      "phi 6.929575675426736e-09\n",
      "phi 8.945474092372785e-11\n",
      "phi 9.845639928340866e-14\n",
      "phi 1.4151939169149141e-12\n",
      "phi 1.1266833820078315e-12\n",
      "phi 1.9035749539153546e-12\n",
      "phi 1.7483566677745088e-12\n",
      "phi 1.816703471685388e-12\n",
      "phi 2.2797345608505104e-13\n",
      "phi 1.6823666591780917e-11\n",
      "phi 8.024332066869366e-13\n",
      "phi 4.008580735143791e-09\n",
      "phi 3.4448312258295033e-13\n",
      "phi 2.8883936267071197e-09\n",
      "phi 2.0291680662143374e-12\n",
      "phi 8.445204678804441e-10\n",
      "phi 4.420128759535791e-12\n",
      "phi 5.916014206297504e-14\n",
      "phi 1.1280386347234383e-13\n",
      "phi 1.2962468771970936e-11\n",
      "phi 1.709953012518639e-11\n",
      "phi 6.027437663563839e-12\n",
      "phi 1.517116467175672e-11\n",
      "phi 1.6510323490315226e-11\n",
      "phi 1.638054058714089e-11\n",
      "phi 1.4804668341944494e-11\n",
      "phi 2.4971014839225703e-11\n",
      "phi 5.612069238145057e-10\n",
      "phi 5.629229313589001e-10\n",
      "phi 6.388379408805989e-14\n",
      "phi 5.149988872854561e-10\n",
      "phi 7.784340923591704e-11\n",
      "phi 5.63318768801585e-10\n",
      "phi 6.638668347686005e-12\n",
      "phi 5.476549400605657e-10\n",
      "phi 5.440126309499971e-10\n",
      "phi 6.064420450188623e-11\n",
      "phi 7.200277700458724e-13\n",
      "phi 4.957899932614418e-10\n",
      "phi 4.944813304479101e-10\n",
      "phi 3.788062311743667e-12\n",
      "phi 5.47711040150417e-10\n",
      "phi 9.04590043235981e-09\n",
      "phi 4.942209341426973e-10\n",
      "phi 2.1792029986089645e-14\n",
      "phi 5.090603390212056e-10\n",
      "phi 5.26701098967769e-10\n",
      "phi 2.231231133013878e-10\n",
      "phi 7.042886239483348e-13\n",
      "phi 1.331430625473029e-13\n",
      "phi 1.2574275865331885e-10\n",
      "phi 3.746717346098105e-12\n",
      "phi 7.948306821742301e-10\n",
      "phi 3.6147487780802123e-11\n",
      "phi 4.779771543839129e-10\n",
      "phi 1.4034840997712017e-12\n",
      "phi 9.749732271524536e-12\n",
      "phi 1.7354459883045514e-12\n",
      "phi 2.4100312891184306e-11\n",
      "phi 2.06284642145782e-14\n",
      "phi 5.635205843623758e-13\n",
      "phi 7.790451530403919e-11\n",
      "phi 1.4487321411960075e-10\n",
      "phi 7.897575822479741e-13\n",
      "phi 2.2460817927782983e-11\n",
      "phi 1.6845720998692748e-11\n",
      "phi 2.2069433953941786e-11\n",
      "phi 2.2368431325942018e-11\n",
      "phi 2.3460738560188155e-11\n",
      "phi 6.314480188729377e-14\n",
      "phi 1.3888564777408963e-11\n",
      "phi 1.332305533258138e-11\n",
      "phi 1.3257612889450154e-11\n",
      "phi 1.315067325868835e-11\n",
      "phi 2.2578002835393907e-11\n",
      "phi 4.620262505916628e-14\n",
      "phi 5.483443560327927e-13\n",
      "phi 5.0502050458201e-13\n",
      "phi 1.5356656918319445e-12\n",
      "phi 2.3784793579118e-13\n",
      "phi 2.6596086444286016e-13\n",
      "phi 5.029860599206626e-10\n",
      "phi 2.72479521584712e-13\n",
      "phi 7.753693520573535e-14\n",
      "phi 3.0420544555598283e-14\n",
      "phi 9.020648811253196e-14\n",
      "phi 8.918994015560955e-14\n",
      "phi 1.281388189999788e-13\n",
      "phi 8.897136499763647e-14\n",
      "phi 9.946730938903414e-14\n",
      "phi 1.0613905587764094e-13\n",
      "phi 1.5938370415136127e-12\n",
      "phi 8.536972396361309e-10\n",
      "phi 1.0803510863688359e-13\n",
      "phi 1.6114103627840048e-10\n",
      "phi 1.7649076644588035e-14\n",
      "phi 8.689474868817104e-10\n",
      "phi 2.2369259222720927e-14\n",
      "phi 3.3228125442125167e-09\n",
      "phi 1.0750029338923994e-12\n",
      "phi 2.1024985571993504e-11\n",
      "phi 8.285218197276456e-09\n",
      "phi 1.0862838406566766e-14\n",
      "phi 1.5279444376403717e-13\n",
      "phi 1.3592496034969814e-09\n",
      "phi 1.2001979271536456e-12\n",
      "phi 3.331607559275973e-12\n",
      "phi 1.6844164951734797e-14\n",
      "phi 7.636444254721653e-09\n",
      "phi 1.869511490060205e-14\n",
      "phi 1.8759299669213192e-14\n",
      "phi 1.7719300679508443e-10\n",
      "phi 1.8763284155565163e-10\n",
      "phi 1.759648555338389e-10\n",
      "phi 1.7597650593670355e-10\n",
      "phi 5.291895394110568e-13\n",
      "phi 1.3015777691749442e-10\n",
      "phi 1.661587534229625e-13\n",
      "phi 1.1689275380977193e-09\n",
      "phi 7.017841169298933e-13\n",
      "phi 2.612399498114204e-10\n"
     ]
    }
   ],
   "source": [
    "loading_path = np.linspace(0,0.01,500)\n",
    "Model = DMN.Tree(4)\n",
    "\n",
    "metadata,training_error,validation_error,root = DMN.load_model('models/model_N=4.pkl')\n",
    "\n",
    "# root = Model.initialise(num_loading_steps=len(loading_path))\n",
    "\n",
    "Model.propagate_weights(root)\n",
    "Model.initialise_bottom_layer(root,p1,p2)\n",
    "# print(loading_path)\n",
    "Model.FeedForward(root,p1,p2)\n",
    "Model.plasticity_loader(root,loading_path)\n",
    "\n"
   ]
  },
  {
   "cell_type": "code",
   "execution_count": 21,
   "id": "90b25041",
   "metadata": {},
   "outputs": [
    {
     "name": "stdout",
     "output_type": "stream",
     "text": [
      "[[ 0.21375879 -0.15484677  0.00101956]\n",
      " [-0.15484677  0.15424249 -0.00116372]\n",
      " [ 0.00101956 -0.00116372  0.12742947]]\n",
      "original [[ 0.00182 -0.00078  0.     ]\n",
      " [-0.00078  0.00182  0.     ]\n",
      " [ 0.       0.       0.0052 ]]\n",
      "Final stress: [0.17151129 0.17218473 0.00020018]\n"
     ]
    }
   ],
   "source": [
    "# Model.FeedForward(root,p1,p2)\n",
    "print((convert_vectorised(root.rotated_compliance)))\n",
    "print('original',convert_vectorised(p1))\n",
    "final_stress= np.linalg.inv(convert_vectorised(root.rotated_compliance)) @ root.epss[-1]\n",
    "\n",
    "print(\"Final stress:\",final_stress)\n",
    "\n"
   ]
  },
  {
   "cell_type": "code",
   "execution_count": 22,
   "id": "c5813356",
   "metadata": {},
   "outputs": [
    {
     "data": {
      "text/plain": [
       "Text(0, 0.5, '$\\\\sigma_1$ (GPa)')"
      ]
     },
     "execution_count": 22,
     "metadata": {},
     "output_type": "execute_result"
    },
    {
     "data": {
      "image/png": "[encoded data removed]",
      "text/plain": [
       "<Figure size 640x480 with 1 Axes>"
      ]
     },
     "metadata": {},
     "output_type": "display_data"
    }
   ],
   "source": [
    "bottom_node = Model.fetch_node(root,3,31)\n",
    "\n",
    "\n",
    "plt.plot(root.epss[:,0],root.sigmas[:,0],label='sigma_1',marker = 'x')\n",
    "plt.xlabel(r'$\\epsilon_1$ (a.u)')\n",
    "plt.ylabel(r'$\\sigma_1$ (GPa)')\n"
   ]
  },
  {
   "cell_type": "code",
   "execution_count": 23,
   "id": "10130cc0",
   "metadata": {},
   "outputs": [
    {
     "ename": "SyntaxError",
     "evalue": "invalid syntax (3658926097.py, line 4)",
     "output_type": "error",
     "traceback": [
      "\u001b[0;36m  Cell \u001b[0;32mIn[23], line 4\u001b[0;36m\u001b[0m\n\u001b[0;31m    bottom_node.\u001b[0m\n\u001b[0m                ^\u001b[0m\n\u001b[0;31mSyntaxError\u001b[0m\u001b[0;31m:\u001b[0m invalid syntax\n"
     ]
    }
   ],
   "source": [
    "bottom_node = Model.fetch_node(root,3,6)\n",
    "\n",
    "root.delta_sigma,root.res_strain\n",
    "bottom_node."
   ]
  },
  {
   "cell_type": "code",
   "execution_count": null,
   "id": "593739cb",
   "metadata": {},
   "outputs": [
    {
     "name": "stdout",
     "output_type": "stream",
     "text": [
      "1.0851128140139592\n",
      "1.3836760374014487\n",
      "0.5329519325673803\n",
      "-0.017034882861879312\n",
      "0.5832179726454294\n",
      "0.6833096976146252\n",
      "-0.004292350948189287\n",
      "0.05585203527247442\n"
     ]
    }
   ],
   "source": [
    "for i in range(1,9):\n",
    "    bottom_node = Model.fetch_node(root,4,i)\n",
    "    print(bottom_node.activation)\n",
    "   "
   ]
  },
  {
   "cell_type": "code",
   "execution_count": null,
   "id": "e3508bce",
   "metadata": {},
   "outputs": [],
   "source": []
  },
  {
   "cell_type": "code",
   "execution_count": null,
   "id": "5d1e4288",
   "metadata": {},
   "outputs": [],
   "source": []
  }
 ],
 "metadata": {
  "kernelspec": {
   "display_name": "fenicsx-env",
   "language": "python",
   "name": "python3"
  },
  "language_info": {
   "codemirror_mode": {
    "name": "ipython",
    "version": 3
   },
   "file_extension": ".py",
   "mimetype": "text/x-python",
   "name": "python",
   "nbconvert_exporter": "python",
   "pygments_lexer": "ipython3",
   "version": "3.13.2"
  }
 },
 "nbformat": 4,
 "nbformat_minor": 5
}
