{
 "cells": [
  {
   "cell_type": "code",
   "execution_count": 1,
   "id": "8700174f",
   "metadata": {},
   "outputs": [],
   "source": [
    "import DMN3 as DMN\n",
    "from matplotlib import pyplot as plt\n",
    "import numpy as np\n",
    "from helperfuncs import *"
   ]
  },
  {
   "cell_type": "code",
   "execution_count": 2,
   "id": "f3d88fca",
   "metadata": {},
   "outputs": [],
   "source": [
    "node = DMN.Node(np.ones(6)*2)\n",
    "node.compliance\n",
    "node.rotated_compliance = node.compliance\n",
    "\n",
    "node.left = DMN.Node(np.ones(6)*9)\n",
    "node.right = DMN.Node(np.ones(6)*3)\n",
    "\n",
    "node.right.rotated_compliance = node.right.compliance\n",
    "node.left.rotated_compliance = node.left.compliance\n"
   ]
  },
  {
   "cell_type": "code",
   "execution_count": 3,
   "id": "c8d30e23",
   "metadata": {},
   "outputs": [
    {
     "name": "stdout",
     "output_type": "stream",
     "text": [
      "<DMN3.Node object at 0x7f05bc73bc50>\n",
      "<DMN3.Node object at 0x7f05bc73bd90>\n"
     ]
    }
   ],
   "source": [
    "node.sigma = np.ones(3)*2\n",
    "DMN.update_stress(node)\n"
   ]
  },
  {
   "cell_type": "code",
   "execution_count": 4,
   "id": "04f8f40c",
   "metadata": {},
   "outputs": [
    {
     "data": {
      "text/plain": [
       "array([1.33333333, 2.        , 2.        ])"
      ]
     },
     "execution_count": 4,
     "metadata": {},
     "output_type": "execute_result"
    }
   ],
   "source": [
    "node.right.sigma"
   ]
  },
  {
   "cell_type": "code",
   "execution_count": 5,
   "id": "8d0bd16c",
   "metadata": {},
   "outputs": [
    {
     "data": {
      "text/plain": [
       "array([0.44444444, 2.        , 2.        ])"
      ]
     },
     "execution_count": 5,
     "metadata": {},
     "output_type": "execute_result"
    }
   ],
   "source": [
    "node.left.sigma"
   ]
  },
  {
   "cell_type": "code",
   "execution_count": null,
   "id": "8d16081e",
   "metadata": {},
   "outputs": [],
   "source": []
  }
 ],
 "metadata": {
  "kernelspec": {
   "display_name": "fenicsx-env",
   "language": "python",
   "name": "python3"
  },
  "language_info": {
   "codemirror_mode": {
    "name": "ipython",
    "version": 3
   },
   "file_extension": ".py",
   "mimetype": "text/x-python",
   "name": "python",
   "nbconvert_exporter": "python",
   "pygments_lexer": "ipython3",
   "version": "3.13.2"
  }
 },
 "nbformat": 4,
 "nbformat_minor": 5
}
