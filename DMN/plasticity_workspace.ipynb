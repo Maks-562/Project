{
 "cells": [
  {
   "cell_type": "code",
   "execution_count": 1,
   "id": "8700174f",
   "metadata": {},
   "outputs": [],
   "source": [
    "import DMN3 as DMN\n",
    "from matplotlib import pyplot as plt\n",
    "import numpy as np\n",
    "from helperfuncs import *\n",
    "import pandas as pd\n"
   ]
  },
  {
   "cell_type": "code",
   "execution_count": 2,
   "id": "86af25e4",
   "metadata": {},
   "outputs": [],
   "source": [
    "\n",
    "def elasticity_matrix(E, nu):\n",
    "    # plane strain elasticity matrix\n",
    "    Ce = np.array([[1 - nu, nu, 0], [nu, 1 - nu, 0], [0, 0, (1 - 2 * nu)/2 ]])\n",
    "    Ce *= E / ((1 - 2 * nu) * (1 + nu))\n",
    "\n",
    "    return Ce"
   ]
  },
  {
   "cell_type": "code",
   "execution_count": 3,
   "id": "030c8b58",
   "metadata": {},
   "outputs": [
    {
     "name": "stdout",
     "output_type": "stream",
     "text": [
      "[ 0.0096 -0.0024  0.      0.0096  0.      0.024 ] [ 0.0096 -0.0024  0.      0.0096  0.      0.024 ]\n"
     ]
    }
   ],
   "source": [
    "# node = DMN.Node(np.ones(6)*2)\n",
    "# node.compliance\n",
    "# node.rotated_compliance = node.compliance\n",
    "# p1 = np.array([0.7243458035427647,-0.6624489424587073,0.0,0.7243458035427647,0.0,2.7735894920029462])\n",
    "# p2 = np.array([0.36757546481294456,-0.16233746963686535,0.0,0.3675754648129446,0.0,1.05982586889962])\n",
    "\n",
    "data = pd.read_csv(\"data/building_block_data.csv\",header=None)\n",
    "data = data.to_numpy()\n",
    "# data[0]\n",
    "\n",
    "which = 32\n",
    "# p1 = data[which][0:6]\n",
    "# p2 = data[which][6:12]\n",
    "# p3 = data[which][12:18]\n",
    "\n",
    "p1 = convert_matrix(np.linalg.inv(elasticity_matrix(100*10**9,0.2)))*(10**9)\n",
    "p2 = convert_matrix(np.linalg.inv(elasticity_matrix(100*10**9,0.2)))*(10**9)\n",
    "print(p1, p2)\n",
    "# node.left = DMN.Node(p1)\n",
    "# node.right = DMN.Node(p2)\n",
    "\n",
    "# node.right.rotated_compliance = node.right.compliance\n",
    "# node.left.rotated_compliance = node.left.compliance\n",
    "\n",
    "# node.rotated_compliance = homogenise(node.left.rotated_compliance, node.right.rotated_compliance,0.2,0.8)"
   ]
  },
  {
   "cell_type": "code",
   "execution_count": 4,
   "id": "c8d30e23",
   "metadata": {},
   "outputs": [],
   "source": [
    "# node.delta_sigma = np.ones(3)*2\n"
   ]
  },
  {
   "cell_type": "code",
   "execution_count": 5,
   "id": "04f8f40c",
   "metadata": {},
   "outputs": [],
   "source": [
    "# node.right.delta_sigma"
   ]
  },
  {
   "cell_type": "code",
   "execution_count": 6,
   "id": "8d0bd16c",
   "metadata": {},
   "outputs": [],
   "source": [
    "# node.left.delta_sigma"
   ]
  },
  {
   "cell_type": "code",
   "execution_count": 7,
   "id": "8d16081e",
   "metadata": {},
   "outputs": [],
   "source": [
    "# DMN.calc_elasto_plastic_operator(node),convert_vectorised(node.rotated_compliance)"
   ]
  },
  {
   "cell_type": "code",
   "execution_count": null,
   "id": "4de005ce",
   "metadata": {},
   "outputs": [],
   "source": []
  },
  {
   "cell_type": "code",
   "execution_count": 8,
   "id": "15efb435",
   "metadata": {},
   "outputs": [],
   "source": [
    "# res1 = np.ones((3,))* 2\n",
    "# res2 = np.ones((3,))  * 4"
   ]
  },
  {
   "cell_type": "code",
   "execution_count": 9,
   "id": "c088f5f3",
   "metadata": {},
   "outputs": [],
   "source": [
    "# homogenise_res(node.left.rotated_compliance,node.right.rotated_compliance,0.5,0.5,res1,res2)"
   ]
  },
  {
   "cell_type": "code",
   "execution_count": 10,
   "id": "b090ea9f",
   "metadata": {},
   "outputs": [],
   "source": [
    "# Model = DMN.Tree(3)\n",
    "# root = Model.initialise()\n",
    "\n",
    "# Model.propagate_weights(root)\n",
    "# Model.initialise_bottom_layer(root,p1,p2)\n"
   ]
  },
  {
   "cell_type": "code",
   "execution_count": 11,
   "id": "d5ea5382",
   "metadata": {},
   "outputs": [],
   "source": [
    "# Model.homogenise_system_res(root)\n"
   ]
  },
  {
   "cell_type": "code",
   "execution_count": 12,
   "id": "5a7d3485",
   "metadata": {},
   "outputs": [],
   "source": [
    "# root.res_strain,root.delta_eps"
   ]
  },
  {
   "cell_type": "code",
   "execution_count": null,
   "id": "024f3b20",
   "metadata": {},
   "outputs": [],
   "source": []
  },
  {
   "cell_type": "code",
   "execution_count": 13,
   "id": "13d3154c",
   "metadata": {},
   "outputs": [],
   "source": [
    "# root.sigma = np.array([1,2,3])\n",
    "# Model.backwards_pass(root)"
   ]
  },
  {
   "cell_type": "code",
   "execution_count": 14,
   "id": "81fcb958",
   "metadata": {},
   "outputs": [],
   "source": [
    "# bottom_node = Model.fetch_node(root,3,6)"
   ]
  },
  {
   "cell_type": "code",
   "execution_count": 15,
   "id": "c5caed31",
   "metadata": {},
   "outputs": [],
   "source": [
    "# bottom_node.delta_sigma,bottom_node.delta_eps\n",
    "\n",
    "\n",
    "# DMN.return_mapping(root)"
   ]
  },
  {
   "cell_type": "code",
   "execution_count": 16,
   "id": "85276579",
   "metadata": {},
   "outputs": [],
   "source": [
    "# from DMN3 import xi,evaluate_plastic_state\n",
    "\n",
    "# # def xi(node,delta_gamma):\n",
    "# #     D = convert_vectorised(node.rotated_compliance)\n",
    "# #     A = np.linalg.inv(D + delta_gamma *P)@ D\n",
    "# #     sigma = node.sigma\n",
    "    \n",
    "# #     return sigma.T @A.T@P@A@sigma\n",
    "    \n",
    "# def xi_prime_finite_diff(node,delta_gamma,delta=1e-6,sigma_trial=np.zeros((3,))):\n",
    "   \n",
    "#     return (xi(node,delta_gamma + delta,sigma_trial) - xi(node,delta_gamma - delta,sigma_trial))/(2*delta)\n",
    "\n",
    "# def xi_prime_ana(node,delta_gamma,sigma_trial=np.zeros((3,))):\n",
    "#     D = convert_vectorised(node.rotated_compliance)\n",
    "#     C = np.linalg.inv(D)\n",
    "#     A = np.linalg.inv(D + delta_gamma *P)@ D\n",
    "    \n",
    "#     middle_mat = P.T @C.T@ A.T + P@A@C\n",
    "\n",
    "\n",
    "#     return -sigma_trial.T@A.T@middle_mat@P@A@sigma_trial\n"
   ]
  },
  {
   "cell_type": "code",
   "execution_count": 17,
   "id": "3219d844",
   "metadata": {},
   "outputs": [],
   "source": [
    "# import timeit\n",
    "\n",
    "# gamma = .23123\n",
    "# deltas = np.logspace(-10,-3,100)\n",
    "# res = np.zeros_like(deltas)\n",
    "\n",
    "\n",
    "# sigma_trial = np.array([1,2,3])\n",
    "# for index,delta in enumerate(deltas):\n",
    "#     res[index] = abs(xi_prime_finite_diff(root,gamma,delta,sigma_trial)-xi_prime_ana(root,gamma,sigma_trial))/abs(xi_prime_ana(root,gamma,sigma_trial))\n",
    "\n",
    "# plt.plot(deltas,res,marker='o',label='Finite Difference')\n",
    "# plt.xscale('log')\n",
    "# plt.yscale('log')\n",
    "\n",
    "\n",
    "# t1 = timeit.timeit(lambda: xi_prime_finite_diff(root,gamma,1e-6))\n",
    "# t2 = timeit.timeit(lambda: xi_prime_ana(root,gamma))\n"
   ]
  },
  {
   "cell_type": "code",
   "execution_count": 18,
   "id": "563b068a",
   "metadata": {},
   "outputs": [],
   "source": [
    "# t1, t2"
   ]
  },
  {
   "cell_type": "code",
   "execution_count": 19,
   "id": "9b1de66a",
   "metadata": {},
   "outputs": [],
   "source": [
    "# D = convert_vectorised(node.rotated_compliance)\n",
    "# delta_gamma= evaluate_plastic_state(root,np.array([0,0,0.3]))\n",
    "# A = np.linalg.inv(D + delta_gamma *P)@ D\n",
    "# A@np.array([0,0,0.3])"
   ]
  },
  {
   "cell_type": "code",
   "execution_count": 20,
   "id": "64637671",
   "metadata": {},
   "outputs": [
    {
     "name": "stdout",
     "output_type": "stream",
     "text": [
      "plastic state at index 10 with trials [ 1.13975815e-01  2.93453022e-02 -1.40186194e-07] [ 1.05263158e-03 -2.07195369e-05 -1.66353586e-04]\n",
      "0 0.00035863342827504235 6.036992081265291e-06\n",
      "1 0.0003724122697611746 8.288229371485739e-09\n",
      "2 0.0003724312388814398 1.5664119307201574e-14\n",
      "delta_gamma: 0.0003724312388814398\n",
      "sigma new: [ 0.11152359  0.02936825 -0.00020233] sigma old [ 1.13975815e-01  2.93453022e-02 -1.40186194e-07]\n",
      "plastic state at index 10 with trials [ 1.16899823e-01  2.93453022e-02 -1.40186194e-07] [ 1.05263158e-03  3.33321685e-07 -2.93673093e-05]\n",
      "0 0.0007199014413267 2.5557548549371128e-05\n",
      "1 0.0007781234199556737 1.4474524451116647e-07\n",
      "2 0.0007784569277380037 4.6981659014566635e-12\n",
      "delta_gamma: 0.0007784569277380037\n",
      "sigma new: [ 1.11691373e-01  2.94664700e-02 -7.01227256e-05] sigma old [ 1.16899823e-01  2.93453022e-02 -1.40186194e-07]\n",
      "plastic state at index 10 with trials [ 1.16906821e-01  2.93453022e-02 -1.40186194e-07] [1.05263158e-03 3.83707574e-07 2.81396462e-05]\n",
      "0 0.0007207148946305355 2.5618425299395783e-05\n",
      "1 0.0007790748277944191 1.4542625403641402e-07\n",
      "2 0.0007794099093655571 4.742304205579417e-12\n",
      "delta_gamma: 0.0007794099093655571\n",
      "sigma new: [1.11691796e-01 2.94667897e-02 6.70216156e-05] sigma old [ 1.16906821e-01  2.93453022e-02 -1.40186194e-07]\n",
      "plastic state at index 10 with trials [ 1.16905433e-01  2.93453022e-02 -1.40186194e-07] [1.05263158e-03 3.73716728e-07 2.83863012e-05]\n",
      "0 0.0007205535920297887 2.560634985166897e-05\n",
      "1 0.0007788861593096599 1.4529104913878904e-07\n",
      "2 0.0007792209284151582 4.733525637429237e-12\n",
      "delta_gamma: 0.0007792209284151582\n",
      "sigma new: [1.11691712e-01 2.94667263e-02 6.75956973e-05] sigma old [ 1.16905433e-01  2.93453022e-02 -1.40186194e-07]\n",
      "plastic state at index 10 with trials [ 1.16966001e-01  2.93453022e-02 -1.40186194e-07] [1.05263158e-03 8.09801719e-07 1.40057916e-05]\n",
      "0 0.0007275857381236004 2.613573551289933e-05\n",
      "1 0.0007871178498506249 1.5127609540466908e-07\n",
      "2 0.0007874664516694339 5.129926865243828e-12\n",
      "delta_gamma: 0.0007874664516694339\n",
      "sigma new: [1.11695379e-01 2.94695066e-02 3.36003296e-05] sigma old [ 1.16966001e-01  2.93453022e-02 -1.40186194e-07]\n",
      "plastic state at index 10 with trials [ 1.16178887e-01  2.93453022e-02 -1.40186194e-07] [ 1.05263158e-03 -4.85741533e-06  8.91507596e-05]\n",
      "0 0.0006348302270978142 1.9630686410892616e-05\n",
      "1 0.0006795987935412842 8.595993401458446e-08\n",
      "2 0.0006797965569341633 1.6633396049403615e-12\n",
      "delta_gamma: 0.0006797965569341633\n",
      "sigma new: [0.11164834 0.02943565 0.00018828] sigma old [ 1.16178887e-01  2.93453022e-02 -1.40186194e-07]\n",
      "plastic state at index 10 with trials [ 1.16975106e-01  2.93453022e-02 -1.40186194e-07] [1.05263158e-03 8.75356913e-07 1.02146123e-05]\n",
      "0 0.0007286413631752522 2.621572463776733e-05\n",
      "1 0.0007883546932435255 1.521906863050787e-07\n",
      "2 0.0007887054090471356 5.19189942774223e-12\n",
      "delta_gamma: 0.0007887054090471356\n",
      "sigma new: [1.11695931e-01 2.94699270e-02 2.45058215e-05] sigma old [ 1.16975106e-01  2.93453022e-02 -1.40186194e-07]\n",
      "plastic state at index 12 with trials [-0.03313826 -0.14398586 -0.00746071] [ 0.00123911 -0.00170018 -0.00040461]\n",
      "0 0.0035347781923519266 0.0005610535998206651\n",
      "1 0.0049519570206857525 5.075565745418309e-05\n",
      "2 0.005107073578650523 5.073791642124653e-07\n",
      "3 0.005108655690724498 5.183075843517848e-11\n",
      "delta_gamma: 0.005108655690724498\n",
      "sigma new: [-0.02472976 -0.11127581 -0.00664793] sigma old [-0.03313826 -0.14398586 -0.00746071]\n",
      "plastic state at index 12 with trials [-0.03273631 -0.14321049 -0.00074989] [ 1.21283941e-03 -1.67949716e-03 -5.87226408e-05]\n",
      "0 0.0034055018506358847 0.0005187425283148632\n",
      "1 0.004711672610366008 4.395868294814484e-05\n",
      "2 0.004843910692507981 3.809363872306869e-07\n",
      "3 0.004845076770231663 2.915898729069499e-11\n",
      "delta_gamma: 0.004845076770231663\n",
      "sigma new: [-0.02476746 -0.1119849  -0.00077108] sigma old [-0.03273631 -0.14321049 -0.00074989]\n",
      "plastic state at index 12 with trials [-0.0327391  -0.14320862  0.00177454] [ 1.21277767e-03 -1.67970518e-03  8.32392760e-05]\n",
      "0 0.003408722487268683 0.0005194760181024276\n",
      "1 0.004716957836644225 4.4066184678346124e-05\n",
      "2 0.004849566989466458 3.8273538166891385e-07\n",
      "3 0.004850739042052962 2.943125214024955e-11\n",
      "delta_gamma: 0.004850739042052962\n",
      "sigma new: [-0.02476378 -0.11196093  0.00150407] sigma old [-0.0327391  -0.14320862  0.00177454]\n",
      "plastic state at index 12 with trials [-0.03273935 -0.14320899  0.00178542] [ 1.21278991e-03 -1.67971625e-03  8.38483020e-05]\n",
      "0 0.00340879994363081 0.0005194994632134547\n",
      "1 0.004717097678202763 4.406981982995814e-05\n",
      "2 0.004849719034698998 3.8279815734679895e-07\n",
      "3 0.004850891292375432 2.944092582571334e-11\n",
      "delta_gamma: 0.004850891292375432\n",
      "sigma new: [-0.02476378 -0.11196048  0.00151386] sigma old [-0.03273935 -0.14320899  0.00178542]\n",
      "plastic state at index 12 with trials [-0.03272822 -0.14319286  0.00115308] [ 1.21225573e-03 -1.67921725e-03  4.83546487e-05]\n",
      "0 0.0034052003758554593 0.0005184252784532092\n",
      "1 0.004710632498642103 4.390375728027633e-05\n",
      "2 0.004842695830584274 3.799388420340673e-07\n",
      "3 0.004843858743013632 2.9002238978448336e-11\n",
      "delta_gamma: 0.004843858743013632\n",
      "sigma new: [-0.02476391 -0.11198172  0.00094457] sigma old [-0.03272822 -0.14319286  0.00115308]\n",
      "plastic state at index 12 with trials [ 0.02279166 -0.14427045  0.00053908] [ 0.00126316 -0.00213781 -0.00064209]\n",
      "0 0.005353733604069568 0.001598497674166424\n",
      "1 0.009196946171603097 0.00029921995540707885\n",
      "2 0.010288290201037751 1.54807539986309e-05\n",
      "3 0.010351095126375585 4.631494897409244e-08\n",
      "4 0.010351284154137805 4.1722918522890673e-13\n",
      "delta_gamma: 0.010351284154137805\n",
      "sigma new: [ 0.01351028 -0.09563349 -0.0059775 ] sigma old [ 0.02279166 -0.14427045  0.00053908]\n",
      "plastic state at index 12 with trials [-0.03285982 -0.14340236  0.00453873] [ 0.00121923 -0.00168522  0.00023454]\n",
      "0 0.0034455960431501917 0.0005309707644982845\n",
      "1 0.004784250204663916 4.586847612260154e-05\n",
      "2 0.004922910096405858 4.1453208032837807e-07\n",
      "3 0.004924186193760751 3.453839688208338e-11\n",
      "delta_gamma: 0.004924186193760751\n",
      "sigma new: [-0.02476341 -0.11175167  0.00396933] sigma old [-0.03285982 -0.14340236  0.00453873]\n",
      "plastic state at index 12 with trials [-0.03272643 -0.14319043  0.00098685] [ 1.21217547e-03 -1.67913495e-03  3.90003531e-05]\n",
      "0 0.003404559818718324 0.0005182405177758527\n",
      "1 0.0047094959893109025 4.3875379710107184e-05\n",
      "2 0.0048414637119017735 3.794527135081785e-07\n",
      "3 0.004842625033344838 2.892810383597899e-11\n",
      "delta_gamma: 0.004842625033344838\n",
      "sigma new: [-0.02476403 -0.11198563  0.00079476] sigma old [-0.03272643 -0.14319043  0.00098685]\n",
      "plastic state at index 14 with trials [ 0.06845762  0.12144515 -0.01064646] [0.00134437 0.01766422 0.00335754]\n",
      "0 0.0047821984426904005 5.534452265523694e-05\n",
      "1 0.005686417444344024 1.0114225637136015e-06\n",
      "2 0.0057035534799213155 3.2921811370795195e-10\n",
      "3 0.005703559061333938 3.599551212651875e-17\n",
      "delta_gamma: 0.005703559061333938\n",
      "sigma new: [ 0.0670156   0.11838541 -0.0064864 ] sigma old [ 0.06845762  0.12144515 -0.01064646]\n",
      "plastic state at index 14 with trials [ 0.06907287  0.12089744 -0.00837632] [0.00132251 0.01810174 0.00014016]\n",
      "0 0.005480610834156205 2.1946155108462217e-05\n",
      "1 0.0059198120683897765 8.01044512965289e-08\n",
      "2 0.005921426861365051 1.0466740321679602e-12\n",
      "delta_gamma: 0.005921426861365051\n",
      "sigma new: [ 0.06773455  0.11858342 -0.00609723] sigma old [ 0.06907287  0.12089744 -0.00837632]\n",
      "plastic state at index 14 with trials [ 0.06925264  0.12090021 -0.00731016] [ 0.00132235  0.01817859 -0.00110763]\n",
      "0 0.005745316036945584 1.277985841494295e-05\n",
      "1 0.00601355194286932 1.8156811047720378e-08\n",
      "2 0.006013934117510062 3.634072209823813e-14\n",
      "delta_gamma: 0.006013934117510062\n",
      "sigma new: [ 0.06790945  0.11867276 -0.00578795] sigma old [ 0.06925264  0.12090021 -0.00731016]\n",
      "plastic state at index 14 with trials [ 0.0692533   0.12090052 -0.00730562] [ 0.00132236  0.01817881 -0.00111301]\n",
      "0 0.005746467611065438 1.2747561452048067e-05\n",
      "1 0.006014068264535009 1.803289011561085e-08\n",
      "2 0.006014447886665105 3.578300850071159e-14\n",
      "delta_gamma: 0.006014447886665105\n",
      "sigma new: [ 0.06791003  0.11867315 -0.00578666] sigma old [ 0.0692533   0.12090052 -0.00730562]\n",
      "plastic state at index 14 with trials [ 0.06921314  0.12088666 -0.00757118] [ 0.00132194  0.01816438 -0.00079986]\n",
      "0 0.005679542405566594 1.4734109285253344e-05\n",
      "1 0.0059857895131787305 2.6736658147868964e-08\n",
      "2 0.005986347247053133 8.706707230188293e-14\n",
      "delta_gamma: 0.005986347247053133\n",
      "sigma new: [ 0.0678738   0.1186501  -0.00586323] sigma old [ 0.06921314  0.12088666 -0.00757118]\n",
      "plastic state at index 14 with trials [ 0.17456073  0.11977899 -0.01527692] [ 0.00105048  0.00303397 -0.00035346]\n",
      "0 0.008581878402101914 0.0013653340830656353\n",
      "1 0.01357479608637031 0.00021031282549982587\n",
      "2 0.014652324219745046 6.987776368198861e-06\n",
      "3 0.014690632916495399 8.296508538334357e-09\n",
      "4 0.01469067850818418 1.1725429654996233e-14\n",
      "delta_gamma: 0.01469067850818418\n",
      "sigma new: [ 0.11934323  0.08509511 -0.00937209] sigma old [ 0.17456073  0.11977899 -0.01527692]\n",
      "plastic state at index 14 with trials [ 0.0693863   0.12105284 -0.00622177] [ 0.00132762  0.01820449 -0.00247526]\n",
      "0 0.00602863727516433 6.874665289676243e-06\n",
      "1 0.006176985962232053 3.5440877025651185e-09\n",
      "2 0.00617706251912883 9.441232518003773e-16\n",
      "delta_gamma: 0.00617706251912883\n",
      "sigma new: [ 0.06800509  0.11876951 -0.00551757] sigma old [ 0.0693863   0.12105284 -0.00622177]\n",
      "plastic state at index 14 with trials [ 0.06920202  0.12088445 -0.00764145] [ 0.00132188  0.01816006 -0.00071757]\n",
      "0 0.005661980165000968 1.5292350294840093e-05\n",
      "1 0.005978930503456884 2.9598445495764014e-08\n",
      "2 0.005979546335230468 1.0958161461571692e-13\n",
      "delta_gamma: 0.005979546335230468\n",
      "sigma new: [ 0.06786341  0.11864409 -0.00588372] sigma old [ 0.06920202  0.12088445 -0.00764145]\n",
      "plastic state at index 15 with trials [0.04922591 0.08286267 0.05870125] [0.00141989 0.02437365 0.00344253]\n",
      "0 0.006003869762916782 0.0003583248519048723\n",
      "1 0.00819555637947779 2.687132995632781e-05\n",
      "2 0.008387619416686806 1.7475979681045792e-07\n",
      "3 0.00838888491891817 7.485121029937591e-12\n",
      "delta_gamma: 0.00838888491891817\n",
      "sigma new: [0.04753255 0.08178255 0.04564694] sigma old [0.04922591 0.08286267 0.05870125]\n"
     ]
    }
   ],
   "source": [
    "loading_path = np.linspace(0,0.002,20)\n",
    "Model = DMN.Tree(3)\n",
    "\n",
    "metadata,training_error,validation_error,root = DMN.load_model('models/model_N=3.pkl')\n",
    "\n",
    "# root = Model.initialise(num_loading_steps=len(loading_path))\n",
    "\n",
    "Model.propagate_weights(root)\n",
    "Model.initialise_bottom_layer(root,p1,p2)\n",
    "# print(loading_path)\n",
    "Model.FeedForward(root,p1,p2)\n",
    "Model.plasticity_loader(root,loading_path)\n",
    "\n"
   ]
  },
  {
   "cell_type": "code",
   "execution_count": 21,
   "id": "90b25041",
   "metadata": {},
   "outputs": [
    {
     "name": "stdout",
     "output_type": "stream",
     "text": [
      "[[ 0.27881747 -0.10088261  0.01512546]\n",
      " [-0.10088261  0.27935233 -0.02020564]\n",
      " [ 0.01512546 -0.02020564  0.06465967]]\n",
      "original [[ 0.0096 -0.0024  0.    ]\n",
      " [-0.0024  0.0096  0.    ]\n",
      " [ 0.      0.      0.024 ]]\n",
      "Final stress: [ 0.00828446  0.00291754 -0.00102623]\n"
     ]
    }
   ],
   "source": [
    "# Model.FeedForward(root,p1,p2)\n",
    "print((convert_vectorised(root.rotated_compliance)))\n",
    "print('original',convert_vectorised(p1))\n",
    "final_stress= np.linalg.inv(convert_vectorised(root.rotated_compliance)) @ root.epss[-1]\n",
    "\n",
    "print(\"Final stress:\",final_stress)\n",
    "\n"
   ]
  },
  {
   "cell_type": "code",
   "execution_count": 22,
   "id": "c5813356",
   "metadata": {},
   "outputs": [
    {
     "data": {
      "text/plain": [
       "Text(0, 0.5, '$\\\\sigma_1$ (GPa)')"
      ]
     },
     "execution_count": 22,
     "metadata": {},
     "output_type": "execute_result"
    },
    {
     "data": {
      "image/png": "[encoded data removed]",
      "text/plain": [
       "<Figure size 640x480 with 1 Axes>"
      ]
     },
     "metadata": {},
     "output_type": "display_data"
    }
   ],
   "source": [
    "bottom_node = Model.fetch_node(root,3,31)\n",
    "\n",
    "\n",
    "plt.plot(root.epss[:,0],root.sigmas[:,0],label='sigma_1',marker = 'x')\n",
    "plt.xlabel(r'$\\epsilon_1$ (a.u)')\n",
    "plt.ylabel(r'$\\sigma_1$ (GPa)')\n"
   ]
  },
  {
   "cell_type": "code",
   "execution_count": 23,
   "id": "10130cc0",
   "metadata": {},
   "outputs": [
    {
     "data": {
      "text/plain": [
       "(array([ 4.36024062e-04,  1.53554835e-04, -5.40118640e-05]),\n",
       " array([-8.62788243e-19,  6.49216768e-19,  1.35324858e-19]))"
      ]
     },
     "execution_count": 23,
     "metadata": {},
     "output_type": "execute_result"
    }
   ],
   "source": [
    "bottom_node = Model.fetch_node(root,3,6)\n",
    "\n",
    "root.delta_sigma,root.res_strain"
   ]
  },
  {
   "cell_type": "code",
   "execution_count": 24,
   "id": "593739cb",
   "metadata": {},
   "outputs": [
    {
     "name": "stdout",
     "output_type": "stream",
     "text": [
      "<DMN3.Node object at 0x7f670445b3e0>\n"
     ]
    }
   ],
   "source": [
    "bottom_node = Model.fetch_node(root,3,8)\n",
    "print(bottom_node)"
   ]
  }
 ],
 "metadata": {
  "kernelspec": {
   "display_name": "fenicsx-env",
   "language": "python",
   "name": "python3"
  },
  "language_info": {
   "codemirror_mode": {
    "name": "ipython",
    "version": 3
   },
   "file_extension": ".py",
   "mimetype": "text/x-python",
   "name": "python",
   "nbconvert_exporter": "python",
   "pygments_lexer": "ipython3",
   "version": "3.13.2"
  }
 },
 "nbformat": 4,
 "nbformat_minor": 5
}
