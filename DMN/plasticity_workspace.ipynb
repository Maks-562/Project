{
 "cells": [
  {
   "cell_type": "code",
   "execution_count": 1,
   "id": "8700174f",
   "metadata": {},
   "outputs": [],
   "source": [
    "import DMN3 as DMN\n",
    "from matplotlib import pyplot as plt\n",
    "import numpy as np\n",
    "from helperfuncs import *"
   ]
  },
  {
   "cell_type": "code",
   "execution_count": 2,
   "id": "030c8b58",
   "metadata": {},
   "outputs": [],
   "source": [
    "node = DMN.Node(np.ones(6)*2)\n",
    "node.compliance\n",
    "node.rotated_compliance = node.compliance\n",
    "p1 = np.array([0.7243458035427647,-0.6624489424587073,0.0,0.7243458035427647,0.0,2.7735894920029462])\n",
    "p2 = np.array([0.36757546481294456,-0.16233746963686535,0.0,0.3675754648129446,0.0,1.05982586889962])\n",
    "\n",
    "node.left = DMN.Node(p1)\n",
    "node.right = DMN.Node(p2)\n",
    "\n",
    "node.right.rotated_compliance = node.right.compliance\n",
    "node.left.rotated_compliance = node.left.compliance\n",
    "\n",
    "node.rotated_compliance = homogenise(node.left.rotated_compliance, node.right.rotated_compliance,0.2,0.8)"
   ]
  },
  {
   "cell_type": "code",
   "execution_count": 3,
   "id": "c8d30e23",
   "metadata": {},
   "outputs": [],
   "source": [
    "node.delta_sigma = np.ones(3)*2\n",
    "DMN.update_stress(node)\n",
    "\n"
   ]
  },
  {
   "cell_type": "code",
   "execution_count": 4,
   "id": "04f8f40c",
   "metadata": {},
   "outputs": [
    {
     "data": {
      "text/plain": [
       "array([2.21854509, 2.        , 2.        ])"
      ]
     },
     "execution_count": 4,
     "metadata": {},
     "output_type": "execute_result"
    }
   ],
   "source": [
    "node.right.delta_sigma"
   ]
  },
  {
   "cell_type": "code",
   "execution_count": 5,
   "id": "8d0bd16c",
   "metadata": {},
   "outputs": [
    {
     "data": {
      "text/plain": [
       "array([1.12581965, 2.        , 2.        ])"
      ]
     },
     "execution_count": 5,
     "metadata": {},
     "output_type": "execute_result"
    }
   ],
   "source": [
    "node.left.delta_sigma"
   ]
  },
  {
   "cell_type": "code",
   "execution_count": 6,
   "id": "8d16081e",
   "metadata": {},
   "outputs": [
    {
     "data": {
      "text/plain": [
       "(array([[ 0.40774137, -0.218641  ,  0.        ],\n",
       "        [-0.218641  ,  0.3776457 ,  0.        ],\n",
       "        [ 0.        ,  0.        ,  1.40257859]]),\n",
       " array([[ 0.40774137, -0.218641  ,  0.        ],\n",
       "        [-0.218641  ,  0.3776457 ,  0.        ],\n",
       "        [ 0.        ,  0.        ,  1.40257859]]))"
      ]
     },
     "execution_count": 6,
     "metadata": {},
     "output_type": "execute_result"
    }
   ],
   "source": [
    "DMN.calc_elasto_plastic_operator(node),convert_vectorised(node.rotated_compliance)"
   ]
  },
  {
   "cell_type": "code",
   "execution_count": null,
   "id": "4de005ce",
   "metadata": {},
   "outputs": [],
   "source": []
  },
  {
   "cell_type": "code",
   "execution_count": 7,
   "id": "15efb435",
   "metadata": {},
   "outputs": [],
   "source": [
    "res1 = np.ones((3,))* 2\n",
    "res2 = np.ones((3,))  * 4"
   ]
  },
  {
   "cell_type": "code",
   "execution_count": 8,
   "id": "c088f5f3",
   "metadata": {},
   "outputs": [
    {
     "data": {
      "text/plain": [
       "array([3.32673632, 2.54198944, 3.        ])"
      ]
     },
     "execution_count": 8,
     "metadata": {},
     "output_type": "execute_result"
    }
   ],
   "source": [
    "homogenise_res(node.left.rotated_compliance,node.right.rotated_compliance,0.5,0.5,res1,res2)"
   ]
  },
  {
   "cell_type": "code",
   "execution_count": 9,
   "id": "b090ea9f",
   "metadata": {},
   "outputs": [],
   "source": [
    "Model = DMN.Tree(3)\n",
    "root = Model.initialise()\n",
    "\n",
    "Model.propagate_weights(root)\n",
    "Model.initialise_bottom_layer(root,p1,p2)\n"
   ]
  },
  {
   "cell_type": "code",
   "execution_count": 10,
   "id": "d5ea5382",
   "metadata": {},
   "outputs": [],
   "source": [
    "Model.homogenise_system_res(root)\n"
   ]
  },
  {
   "cell_type": "code",
   "execution_count": 11,
   "id": "5a7d3485",
   "metadata": {},
   "outputs": [
    {
     "data": {
      "text/plain": [
       "(array([0.13130115, 0.41907698, 0.127005  ]), array([0., 0., 0.]))"
      ]
     },
     "execution_count": 11,
     "metadata": {},
     "output_type": "execute_result"
    }
   ],
   "source": [
    "root.res_strain,root.delta_eps"
   ]
  },
  {
   "cell_type": "code",
   "execution_count": 12,
   "id": "13d3154c",
   "metadata": {},
   "outputs": [
    {
     "name": "stdout",
     "output_type": "stream",
     "text": [
      "Max error in backwards pass is:  1.0726833887676033\n"
     ]
    },
    {
     "data": {
      "text/plain": [
       "False"
      ]
     },
     "execution_count": 12,
     "metadata": {},
     "output_type": "execute_result"
    }
   ],
   "source": [
    "root.sigma = np.array([1,2,3])\n",
    "Model.backwards_pass(root)"
   ]
  },
  {
   "cell_type": "code",
   "execution_count": 13,
   "id": "81fcb958",
   "metadata": {},
   "outputs": [],
   "source": [
    "bottom_node = Model.fetch_node(root,3,6)"
   ]
  },
  {
   "cell_type": "code",
   "execution_count": 14,
   "id": "c5caed31",
   "metadata": {},
   "outputs": [],
   "source": [
    "bottom_node.delta_sigma,bottom_node.delta_eps\n",
    "\n",
    "\n",
    "DMN.return_mapping(root)"
   ]
  },
  {
   "cell_type": "code",
   "execution_count": 15,
   "id": "85276579",
   "metadata": {},
   "outputs": [],
   "source": [
    "from DMN3 import xi,evaluate_plastic_state\n",
    "\n",
    "# def xi(node,delta_gamma):\n",
    "#     D = convert_vectorised(node.rotated_compliance)\n",
    "#     A = np.linalg.inv(D + delta_gamma *P)@ D\n",
    "#     sigma = node.sigma\n",
    "    \n",
    "#     return sigma.T @A.T@P@A@sigma\n",
    "    \n",
    "def xi_prime_finite_diff(node,delta_gamma,delta=1e-6,sigma_trial=np.zeros((3,))):\n",
    "   \n",
    "    return (xi(node,delta_gamma + delta,sigma_trial) - xi(node,delta_gamma - delta,sigma_trial))/(2*delta)\n",
    "\n",
    "def xi_prime_ana(node,delta_gamma,sigma_trial=np.zeros((3,))):\n",
    "    D = convert_vectorised(node.rotated_compliance)\n",
    "    C = np.linalg.inv(D)\n",
    "    A = np.linalg.inv(D + delta_gamma *P)@ D\n",
    "    \n",
    "    middle_mat = P.T @C.T@ A.T + P@A@C\n",
    "\n",
    "\n",
    "    return -sigma_trial.T@A.T@middle_mat@P@A@sigma_trial\n"
   ]
  },
  {
   "cell_type": "code",
   "execution_count": 16,
   "id": "3219d844",
   "metadata": {},
   "outputs": [
    {
     "data": {
      "image/png": "[encoded data removed]",
      "text/plain": [
       "<Figure size 640x480 with 1 Axes>"
      ]
     },
     "metadata": {},
     "output_type": "display_data"
    }
   ],
   "source": [
    "import timeit\n",
    "\n",
    "gamma = .23123\n",
    "deltas = np.logspace(-10,-3,100)\n",
    "res = np.zeros_like(deltas)\n",
    "\n",
    "\n",
    "sigma_trial = np.array([1,2,3])\n",
    "for index,delta in enumerate(deltas):\n",
    "    res[index] = abs(xi_prime_finite_diff(root,gamma,delta,sigma_trial)-xi_prime_ana(root,gamma,sigma_trial))/abs(xi_prime_ana(root,gamma,sigma_trial))\n",
    "\n",
    "plt.plot(deltas,res,marker='o',label='Finite Difference')\n",
    "plt.xscale('log')\n",
    "plt.yscale('log')\n",
    "\n",
    "\n",
    "# t1 = timeit.timeit(lambda: xi_prime_finite_diff(root,gamma,1e-6))\n",
    "# t2 = timeit.timeit(lambda: xi_prime_ana(root,gamma))\n"
   ]
  },
  {
   "cell_type": "code",
   "execution_count": 17,
   "id": "563b068a",
   "metadata": {},
   "outputs": [],
   "source": [
    "# t1, t2"
   ]
  },
  {
   "cell_type": "code",
   "execution_count": 18,
   "id": "9b1de66a",
   "metadata": {},
   "outputs": [
    {
     "name": "stdout",
     "output_type": "stream",
     "text": [
      "xi and sigma_y 0.18 0.010000000000000002\n"
     ]
    },
    {
     "data": {
      "text/plain": [
       "array([0.      , 0.      , 0.197602])"
      ]
     },
     "execution_count": 18,
     "metadata": {},
     "output_type": "execute_result"
    }
   ],
   "source": [
    "D = convert_vectorised(node.rotated_compliance)\n",
    "delta_gamma= evaluate_plastic_state(root,np.array([0,0,0.3]))\n",
    "A = np.linalg.inv(D + delta_gamma *P)@ D\n",
    "A@np.array([0,0,0.3])"
   ]
  },
  {
   "cell_type": "code",
   "execution_count": 19,
   "id": "fcae22cc",
   "metadata": {},
   "outputs": [
    {
     "data": {
      "text/plain": [
       "np.float64(0.3634104183867743)"
      ]
     },
     "execution_count": 19,
     "metadata": {},
     "output_type": "execute_result"
    }
   ],
   "source": [
    "delta_gamma"
   ]
  },
  {
   "cell_type": "code",
   "execution_count": null,
   "id": "a6cfc4d5",
   "metadata": {},
   "outputs": [],
   "source": []
  },
  {
   "cell_type": "code",
   "execution_count": 20,
   "id": "64637671",
   "metadata": {},
   "outputs": [
    {
     "name": "stdout",
     "output_type": "stream",
     "text": [
      "Delta sigma: [3.26429636e-04 3.11165613e-04 2.99164321e-05]\n",
      "Max error in backwards pass is:  0.00043414525847448583\n",
      "Delta sigma: [-5.64595461e-05  1.18589782e-04 -5.05811470e-04]\n",
      "Max error in backwards pass is:  0.0031930553583731413\n",
      "Delta sigma: [ 0.00150611 -0.00030481  0.00389421]\n",
      "Max error in backwards pass is:  0.031089463176237828\n",
      "xi and sigma_y 0.008685422004788146 0.010000000000000002\n",
      "Delta sigma: [-0.00668393  0.00344464 -0.02058031]\n",
      "Max error in backwards pass is:  0.2413740255303393\n",
      "xi and sigma_y 0.40206509587200034 0.010000000000000002\n",
      "xi and sigma_y 0.7212433599287887 0.012444478506490516\n",
      "xi and sigma_y 0.05841524364167461 0.010000000000000002\n",
      "xi and sigma_y 0.05067079553114811 0.010000000000000002\n",
      "Delta sigma: [ 0.02172794 -0.01785032  0.08400928]\n",
      "Max error in backwards pass is:  1.9067071260892963\n",
      "xi and sigma_y 37.71254253934779 0.19253136055061312\n",
      "xi and sigma_y 106.7155762824168 0.3746256027266959\n",
      "xi and sigma_y 0.010680926019066178 0.010000000000000002\n",
      "xi and sigma_y 2.3491819812185937 0.053160172512441775\n",
      "xi and sigma_y 1.931133765655544 0.048404514477734736\n",
      "Delta sigma: [-0.13373821  0.16982272 -0.57036936]\n",
      "Max error in backwards pass is:  30.676630306806562\n",
      "xi and sigma_y 16013.954849806922 19.492027864512973\n",
      "xi and sigma_y 0.045680278500096726 0.010000000000000002\n",
      "xi and sigma_y 55870.58069304173 60.314258509790065\n",
      "xi and sigma_y 3.8115179559911736 0.01324356009078957\n",
      "xi and sigma_y 330.35217857658773 1.7536689272384023\n",
      "xi and sigma_y 0.23164286787589922 0.010000000000000002\n",
      "xi and sigma_y 259.3168354473524 1.4607017588723517\n",
      "xi and sigma_y 0.10383099393361098 0.010000000000000002\n",
      "Delta sigma: [ 2.15150505 -1.95104554  6.24123422]\n",
      "Max error in backwards pass is:  892.9454391519539\n",
      "xi and sigma_y 19045319.921817005 9986.547795170929\n",
      "xi and sigma_y 742.9163962636135 0.0265222062060452\n",
      "xi and sigma_y 78668606.30318914 37037.660019276525\n",
      "xi and sigma_y 7557.497943486578 0.6989683323624638\n",
      "xi and sigma_y 151509.01050354046 220.67366908575684\n",
      "xi and sigma_y 1575.801059882802 0.057931602003437235\n",
      "xi and sigma_y 119192.53456039188 170.9503673949786\n",
      "xi and sigma_y 641.3350005280248 0.04802043979608546\n",
      "Delta sigma: [-44.62188704  27.65804711 -87.82054945]\n",
      "Max error in backwards pass is:  41228.43716624848\n",
      "xi and sigma_y 51650958509.89566 13779541.736808337\n",
      "xi and sigma_y 1910211.0580827664 155.18012636876205\n",
      "xi and sigma_y 250290809841.906 59137953.80553448\n",
      "xi and sigma_y 11162048.799329499 2419.9111364187033\n",
      "xi and sigma_y 166154640.1563241 97159.39229878837\n",
      "xi and sigma_y 2929838.6649982696 341.14143748968775\n",
      "xi and sigma_y 132520811.7611 74031.28552837658\n",
      "xi and sigma_y 1692142.6640293507 150.0225112758788\n",
      "Delta sigma: [1441.86118169 -840.85836872 1863.55744798]\n",
      "Max error in backwards pass is:  2799478.6018763436\n",
      "xi and sigma_y 288126768187171.94 41633708113.57799\n"
     ]
    },
    {
     "ename": "ValueError",
     "evalue": "Plastic state not converged after 5000 iterations",
     "output_type": "error",
     "traceback": [
      "\u001b[0;31m---------------------------------------------------------------------------\u001b[0m",
      "\u001b[0;31mValueError\u001b[0m                                Traceback (most recent call last)",
      "Cell \u001b[0;32mIn[20], line 12\u001b[0m\n\u001b[1;32m      9\u001b[0m Model\u001b[38;5;241m.\u001b[39minitialise_bottom_layer(root,p1,p2)\n\u001b[1;32m     10\u001b[0m \u001b[38;5;66;03m# print(loading_path)\u001b[39;00m\n\u001b[0;32m---> 12\u001b[0m \u001b[43mModel\u001b[49m\u001b[38;5;241;43m.\u001b[39;49m\u001b[43mplasticity_loader\u001b[49m\u001b[43m(\u001b[49m\u001b[43mroot\u001b[49m\u001b[43m,\u001b[49m\u001b[43mloading_path\u001b[49m\u001b[43m)\u001b[49m\n",
      "File \u001b[0;32m~/PHD/Project/DMN/DMN3.py:948\u001b[0m, in \u001b[0;36mTree.plasticity_loader\u001b[0;34m(self, rootnode, loading_path)\u001b[0m\n\u001b[1;32m    945\u001b[0m convergence_bool \u001b[38;5;241m=\u001b[39m \u001b[38;5;28;01mFalse\u001b[39;00m\n\u001b[1;32m    947\u001b[0m \u001b[38;5;28;01mwhile\u001b[39;00m \u001b[38;5;129;01mnot\u001b[39;00m convergence_bool:\n\u001b[0;32m--> 948\u001b[0m     \u001b[38;5;28;43mself\u001b[39;49m\u001b[38;5;241;43m.\u001b[39;49m\u001b[43mreturn_mapping_bottom_layer\u001b[49m\u001b[43m(\u001b[49m\u001b[43mrootnode\u001b[49m\u001b[43m,\u001b[49m\u001b[43mloading_index\u001b[49m\u001b[38;5;241;43m=\u001b[39;49m\u001b[43mloading_index\u001b[49m\u001b[43m)\u001b[49m\n\u001b[1;32m    951\u001b[0m     \u001b[38;5;28mself\u001b[39m\u001b[38;5;241m.\u001b[39mhomogenise_system_res(rootnode)\n\u001b[1;32m    953\u001b[0m     update_output_stress(rootnode,loading_path,loading_index)\n",
      "File \u001b[0;32m~/PHD/Project/DMN/DMN3.py:930\u001b[0m, in \u001b[0;36mTree.return_mapping_bottom_layer\u001b[0;34m(self, rootnode, loading_index)\u001b[0m\n\u001b[1;32m    928\u001b[0m     queue\u001b[38;5;241m.\u001b[39mappend(node\u001b[38;5;241m.\u001b[39mright)\n\u001b[1;32m    929\u001b[0m \u001b[38;5;28;01mif\u001b[39;00m node\u001b[38;5;241m.\u001b[39mleft \u001b[38;5;129;01mis\u001b[39;00m \u001b[38;5;28;01mNone\u001b[39;00m \u001b[38;5;129;01mand\u001b[39;00m node\u001b[38;5;241m.\u001b[39mright \u001b[38;5;129;01mis\u001b[39;00m \u001b[38;5;28;01mNone\u001b[39;00m:\n\u001b[0;32m--> 930\u001b[0m     \u001b[43mreturn_mapping\u001b[49m\u001b[43m(\u001b[49m\u001b[43mnode\u001b[49m\u001b[43m,\u001b[49m\u001b[43mloading_index\u001b[49m\u001b[38;5;241;43m=\u001b[39;49m\u001b[43mloading_index\u001b[49m\u001b[43m)\u001b[49m\n",
      "File \u001b[0;32m~/PHD/Project/DMN/DMN3.py:1101\u001b[0m, in \u001b[0;36mreturn_mapping\u001b[0;34m(node, loading_index)\u001b[0m\n\u001b[1;32m   1099\u001b[0m     delta_gamma\u001b[38;5;241m=\u001b[39m\u001b[38;5;241m0\u001b[39m\n\u001b[1;32m   1100\u001b[0m \u001b[38;5;28;01melse\u001b[39;00m:\n\u001b[0;32m-> 1101\u001b[0m     delta_gamma \u001b[38;5;241m=\u001b[39m \u001b[43mevaluate_plastic_state\u001b[49m\u001b[43m(\u001b[49m\u001b[43mnode\u001b[49m\u001b[43m,\u001b[49m\u001b[43msigma_trial\u001b[49m\u001b[43m)\u001b[49m\n\u001b[1;32m   1102\u001b[0m     D \u001b[38;5;241m=\u001b[39m convert_vectorised(node\u001b[38;5;241m.\u001b[39mrotated_compliance)\n\u001b[1;32m   1103\u001b[0m     A \u001b[38;5;241m=\u001b[39m np\u001b[38;5;241m.\u001b[39mlinalg\u001b[38;5;241m.\u001b[39minv(D \u001b[38;5;241m+\u001b[39m delta_gamma \u001b[38;5;241m*\u001b[39mP)\u001b[38;5;241m@\u001b[39m D\n",
      "File \u001b[0;32m~/PHD/Project/DMN/DMN3.py:1151\u001b[0m, in \u001b[0;36mevaluate_plastic_state\u001b[0;34m(node, sigma_trial)\u001b[0m\n\u001b[1;32m   1149\u001b[0m     \u001b[38;5;28;01mif\u001b[39;00m \u001b[38;5;28mabs\u001b[39m(phi) \u001b[38;5;241m<\u001b[39m\u001b[38;5;241m10\u001b[39m\u001b[38;5;241m*\u001b[39m\u001b[38;5;241m*\u001b[39m\u001b[38;5;241m-\u001b[39m\u001b[38;5;241m2\u001b[39m:\n\u001b[1;32m   1150\u001b[0m         \u001b[38;5;28;01mreturn\u001b[39;00m delta_gamma\n\u001b[0;32m-> 1151\u001b[0m \u001b[38;5;28;01mraise\u001b[39;00m \u001b[38;5;167;01mValueError\u001b[39;00m(\u001b[38;5;124mf\u001b[39m\u001b[38;5;124m'\u001b[39m\u001b[38;5;124mPlastic state not converged after \u001b[39m\u001b[38;5;132;01m{\u001b[39;00mN_max_iters\u001b[38;5;132;01m}\u001b[39;00m\u001b[38;5;124m iterations\u001b[39m\u001b[38;5;124m'\u001b[39m)\n",
      "\u001b[0;31mValueError\u001b[0m: Plastic state not converged after 5000 iterations"
     ]
    }
   ],
   "source": [
    "loading_path = np.linspace(0,0.005,100)\n",
    "Model = DMN.Tree(3)\n",
    "\n",
    "metadata,training_error,validation_error,root = DMN.load_model('models/model_N=3.pkl')\n",
    "\n",
    "# root = Model.initialise(num_loading_steps=len(loading_path))\n",
    "\n",
    "Model.propagate_weights(root)\n",
    "Model.initialise_bottom_layer(root,p1,p2)\n",
    "# print(loading_path)\n",
    "\n",
    "Model.plasticity_loader(root,loading_path)\n"
   ]
  },
  {
   "cell_type": "code",
   "execution_count": null,
   "id": "c5813356",
   "metadata": {},
   "outputs": [],
   "source": [
    "root.sigmas\n",
    "\n",
    "plt.plot(root.epss[:,0],root.sigmas[:,2],label='sigma_1',marker = 'x')"
   ]
  },
  {
   "cell_type": "code",
   "execution_count": null,
   "id": "10130cc0",
   "metadata": {},
   "outputs": [],
   "source": [
    "bottom_node = Model.fetch_node(root,3,6)\n",
    "\n",
    "bottom_node.eff_plas_strain"
   ]
  },
  {
   "cell_type": "code",
   "execution_count": null,
   "id": "83341bdf",
   "metadata": {},
   "outputs": [],
   "source": []
  }
 ],
 "metadata": {
  "kernelspec": {
   "display_name": "fenicsx-env",
   "language": "python",
   "name": "python3"
  },
  "language_info": {
   "codemirror_mode": {
    "name": "ipython",
    "version": 3
   },
   "file_extension": ".py",
   "mimetype": "text/x-python",
   "name": "python",
   "nbconvert_exporter": "python",
   "pygments_lexer": "ipython3",
   "version": "3.13.2"
  }
 },
 "nbformat": 4,
 "nbformat_minor": 5
}
