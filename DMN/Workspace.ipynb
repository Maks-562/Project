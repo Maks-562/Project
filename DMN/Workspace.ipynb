{
 "cells": [
  {
   "cell_type": "code",
   "execution_count": 1,
   "metadata": {},
   "outputs": [],
   "source": [
    "import DMN3 as DMN\n",
    "import pickle\n",
    "import time\n",
    "from matplotlib import pyplot as plt\n",
    "import Data_Gen as DG\n",
    "import os\n",
    "import numpy as np\n",
    "import pprint\n",
    "import csv\n",
    "import cProfile\n",
    "from helperfuncs import read_data, load_model"
   ]
  },
  {
   "cell_type": "code",
   "execution_count": null,
   "metadata": {},
   "outputs": [],
   "source": []
  },
  {
   "cell_type": "code",
   "execution_count": 2,
   "metadata": {},
   "outputs": [],
   "source": [
    "# values taken from https://matmake.com/pure-metals.html\n",
    "# Only did it to get somewhat realistic data.\n",
    "\n",
    "# Aluminium = {'E':70.2,'v':0.345,'G':27.8}\n",
    "# Bismuth = {'E':34,'v':0.33,'G':34.97}\n",
    "# Calcium = {'E':19.6,'v':0.31,'G':7.85}\n",
    "# Cobalt = {'E':211,'v':0.32,'G':82}\n",
    "# Copper = {'E':130,'v':0.343,'G':48.3}\n",
    "# Gallium = {'E':9.81,'v':0.47,'G':6.67}\n",
    "# Gold = {'E':78.5,'v':0.42,'G':26}\n",
    "# Iron = {'E':208.2,'v':0.291,'G':81.6}\n",
    "# Lithium = {'E':4.91,'v':0.362,'G':4.24}\n",
    "# Magnesium = {'E':44.7,'v':0.291,'G':17.3}\n",
    "# Nickel = {'E':199.5,'v':0.312,'G':76}\n",
    "# Osmium = {'E':558.6,'v':0.25,'G':223}\n",
    "# Platinum = {'E':172.4,'v':0.397,'G':60.9}\n",
    "# Plutonium = {'E':87.5,'v':0.18,'G':34.5}\n",
    "# Tungsten = {'E':411,'v':0.28,'G':160}\n"
   ]
  },
  {
   "cell_type": "markdown",
   "metadata": {},
   "source": []
  },
  {
   "cell_type": "code",
   "execution_count": 3,
   "metadata": {},
   "outputs": [],
   "source": [
    "# materials = [Aluminium,Bismuth,Calcium,Cobalt,Copper,Gallium,Gold,Iron,Lithium,Magnesium,Nickel,Osmium,Platinum,Plutonium,Tungsten]\n"
   ]
  },
  {
   "cell_type": "code",
   "execution_count": 4,
   "metadata": {},
   "outputs": [],
   "source": [
    "# checks if the data set exists, if not it creates it.\n",
    "# if not os.path.exists('Dummy_Data.csv'):\n",
    "#     DG.create_proper_dataset(materials)\n",
    "\n",
    "y = read_data(\"data/proper_data.csv\")\n",
    "z = read_data(\"data/Dummy_Data.csv\")\n",
    "w = read_data(\"data/proper_data1.csv\")\n",
    "q = read_data(\"data/optimised2_data.csv\")\n",
    "a = read_data(\"data/building_block_data.csv\")\n",
    "l = read_data(\"data/uniform_data.csv\")\n",
    "\n",
    "x = q\n",
    "\n",
    "training_data = x[:200]\n",
    "validation_data = x[200:]"
   ]
  },
  {
   "cell_type": "code",
   "execution_count": 5,
   "metadata": {},
   "outputs": [],
   "source": [
    "N = 5\n",
    "epoch_num = 50\n",
    "# number of elements in mini batch must be able to divide the number of training data examples.\n",
    "# in my current dummy data set, I have 105 examples and 105/21 = 5\n",
    "mini_batch_size = 20"
   ]
  },
  {
   "cell_type": "code",
   "execution_count": 6,
   "metadata": {},
   "outputs": [],
   "source": [
    "# creates the variable name for the network\n",
    "Model = DMN.Tree(N)\n",
    "\n",
    "# creates the entire network,\n",
    "# linking nodes in the desired way.\n",
    "# root stores all the important data. Model\n",
    "# provides the methods to train the network\n",
    "# and perform operations, such as feedforward etc.\n",
    "root = Model.initialise(num_loading_steps=150)\n",
    "# D_r = training_data[0][0]\n",
    "\n",
    "error_test = []\n",
    "cost = []\n",
    "error_train = []"
   ]
  },
  {
   "cell_type": "code",
   "execution_count": 7,
   "metadata": {},
   "outputs": [],
   "source": [
    "# met,error_train,error_test,root = DMN.load_model('DMN_HPC/results/model_N=5,lr=0.07222593206005602,lam=1.2391623473850234e-05.pkl')\n",
    "# met,error_train,error_test,root = load_model('models/model_N=4.pkl')\n",
    "\n"
   ]
  },
  {
   "cell_type": "code",
   "execution_count": 8,
   "metadata": {},
   "outputs": [],
   "source": [
    "# cProfile.run('Model.ADAM(epoch_num,root,mini_batch_size,training_data,0.02,validation_data=validation_data,lam =0, beta = 0.90,gamma = 0.99)')"
   ]
  },
  {
   "cell_type": "code",
   "execution_count": 9,
   "metadata": {},
   "outputs": [
    {
     "name": "stdout",
     "output_type": "stream",
     "text": [
      "Current Relative Validation error is 30.299 % \n",
      "Current Relative Training Error is: 30.923 % \n",
      "Epoch 0 is complete\n",
      "Current Relative Validation error is 30.411 % \n",
      "Current Relative Training Error is: 26.659 % \n",
      "Epoch 5 is complete\n",
      "Current Relative Validation error is 20.326 % \n",
      "Current Relative Training Error is: 7.427 % \n",
      "Epoch 10 is complete\n",
      "Current Relative Validation error is 17.675 % \n",
      "Current Relative Training Error is: 5.727 % \n",
      "Epoch 15 is complete\n",
      "Current Relative Validation error is 17.713 % \n",
      "Current Relative Training Error is: 5.681 % \n",
      "Epoch 20 is complete\n",
      "Current Relative Validation error is 17.973 % \n",
      "Current Relative Training Error is: 5.767 % \n",
      "Epoch 25 is complete\n",
      "Current Relative Validation error is 17.733 % \n",
      "Current Relative Training Error is: 5.730 % \n",
      "Epoch 30 is complete\n",
      "Current Relative Validation error is 17.105 % \n",
      "Current Relative Training Error is: 5.560 % \n",
      "Epoch 35 is complete\n",
      "Current Relative Validation error is 16.285 % \n",
      "Current Relative Training Error is: 5.373 % \n",
      "Epoch 40 is complete\n",
      "Current Relative Validation error is 15.590 % \n",
      "Current Relative Training Error is: 5.177 % \n",
      "Epoch 45 is complete\n"
     ]
    }
   ],
   "source": [
    "# The actual training step.\n",
    "\n",
    "# filename = 'N=5,possibly_good.pkl'\n",
    "# error_test,cost ,error_train= Model.SGD(epoch_num,root,mini_batch_size,training_data,0.1,validation_data=validation_data, lam =10**(-8))\n",
    "error_test, cost, error_train = Model.ADAM(\n",
    "    epoch_num,\n",
    "    root,\n",
    "    mini_batch_size,\n",
    "    training_data,\n",
    "    0.005,\n",
    "    validation_data=validation_data,\n",
    "    lam=10**-7,\n",
    "    beta=0.90,\n",
    "    gamma=0.99,\n",
    ")"
   ]
  },
  {
   "cell_type": "markdown",
   "metadata": {},
   "source": []
  },
  {
   "cell_type": "code",
   "execution_count": 10,
   "metadata": {},
   "outputs": [
    {
     "data": {
      "text/plain": [
       "Text(0.5, 1.0, 'N=5')"
      ]
     },
     "execution_count": 10,
     "metadata": {},
     "output_type": "execute_result"
    },
    {
     "data": {
      "image/png": "[encoded data removed]",
      "text/plain": [
       "<Figure size 640x480 with 1 Axes>"
      ]
     },
     "metadata": {},
     "output_type": "display_data"
    }
   ],
   "source": [
    "plt.plot(np.array(error_test), label=\"Test Error\", linestyle=\"dashed\", color=\"m\")\n",
    "plt.plot(np.array(error_train), label=\"Train Error\", linestyle=\"dotted\", color=\"b\")\n",
    "\n",
    "\n",
    "plt.ylabel(\"Relative Error (%)\")\n",
    "plt.xlabel(\"Epoch\")\n",
    "plt.legend()\n",
    "\n",
    "# plt.savefig('error.jpg', dpi = 500)s\n",
    "\n",
    "plt.xscale(\"log\")\n",
    "plt.yscale(\"log\")\n",
    "\n",
    "plt.title(f\"N={N}\")"
   ]
  },
  {
   "cell_type": "code",
   "execution_count": 11,
   "metadata": {},
   "outputs": [
    {
     "data": {
      "image/png": "[encoded data removed]",
      "text/plain": [
       "<Figure size 640x480 with 1 Axes>"
      ]
     },
     "metadata": {},
     "output_type": "display_data"
    }
   ],
   "source": [
    "plt.plot(cost)\n",
    "plt.ylabel(\"Cost Function\")\n",
    "plt.xlabel(\"Epoch\")\n",
    "plt.title(f\"N={N}\")\n",
    "plt.xscale(\"log\")\n",
    "plt.yscale(\"log\")\n",
    "\n",
    "# plt.legend([f'N = {N}'])"
   ]
  },
  {
   "cell_type": "code",
   "execution_count": 12,
   "metadata": {},
   "outputs": [
    {
     "name": "stdout",
     "output_type": "stream",
     "text": [
      "[ 3.52268731e-01 -1.15879518e-01 -5.68873767e-04  3.52189588e-01\n",
      " -9.39107332e-04  8.69100788e-01]\n",
      "[ 3.54651793e-01 -8.08879488e-02  1.30524329e-03  3.54552833e-01\n",
      "  7.86401253e-04  8.73082561e-01]\n",
      "4.898634394795996\n"
     ]
    }
   ],
   "source": [
    "# Model.propagate_weights(root)\n",
    "from DMN3 import convert_vectorised, convert_matrix\n",
    "\n",
    "\n",
    "# DMN.load_model('DMN_HPC/results/model_N=5,lr=0.07222593206005602,lam=1.2391623473850234e-05.pkl')\n",
    "DMN.load_model(\"models/model_N=3.pkl\")\n",
    "Model = DMN.Tree(3)\n",
    "\n",
    "e = 0\n",
    "for i in range(1, len(training_data)):\n",
    "    Model.FeedForward(root, training_data[i][0], training_data[i][1])\n",
    "    e += np.linalg.norm(\n",
    "        convert_vectorised(root.rotated_compliance)\n",
    "        - convert_vectorised(training_data[i][2])\n",
    "    ) / np.linalg.norm(convert_vectorised(training_data[i][2]))\n",
    "    if i == 8:\n",
    "        print(root.rotated_compliance)\n",
    "        print(training_data[i][2])\n",
    "print(100 * e / len(training_data))\n",
    "# # print(validation_data[i][0],training_data[i][1],training_data[i][2])\n",
    "#     print(np.linalg.norm(root.compliance-training_data[i][2]))\n",
    "#     print(training_data[i][2],root.compliance)\n",
    "#     # print(np.linalg.norm(root.compliance)-np.linalg.norm(root.rotated_compliance))"
   ]
  },
  {
   "cell_type": "markdown",
   "metadata": {},
   "source": []
  },
  {
   "cell_type": "code",
   "execution_count": 13,
   "metadata": {},
   "outputs": [
    {
     "name": "stdout",
     "output_type": "stream",
     "text": [
      "[0. 0. 0. 0. 0. 0.] [-1.63327133e-05  3.97203464e-05 -9.83461617e-05  3.67980673e-05\n",
      "  1.40470887e-04  7.57681529e-05]\n",
      "[0. 0. 0. 0. 0. 0.] [-1.64270819e-05  1.47576969e-05 -8.49547686e-05  2.75128467e-05\n",
      "  1.05026004e-04  5.66496484e-05]\n",
      "[0. 0. 0. 0. 0. 0.] [ 1.22188732e-12  9.25877848e-13  8.13959911e-13  2.36186934e-13\n",
      " -1.94234217e-12  2.09507827e-12]\n",
      "[0. 0. 0. 0. 0. 0.] [ 9.08121545e-13  6.31689811e-13  1.56854490e-12  2.36186934e-13\n",
      " -1.94234217e-12  2.09507827e-12]\n",
      "[0. 0. 0. 0. 0. 0.] [ 7.33645199e-13 -2.13896754e-12  3.52859572e-12 -8.74190540e-13\n",
      "  1.40296064e-13  1.27657316e-12]\n",
      "[0. 0. 0. 0. 0. 0.] [-2.94193081e-13 -1.51480098e-12  1.64585195e-12 -8.74190540e-13\n",
      "  1.40296064e-13  1.27657316e-12]\n",
      "[0. 0. 0. 0. 0. 0.] [-2.48958461e-12  1.50014229e-12 -4.52838853e-13 -2.25219080e-12\n",
      "  5.58833491e-12 -3.05371558e-12]\n",
      "[0. 0. 0. 0. 0. 0.] [-2.46874345e-12  2.71703730e-12 -2.20354496e-12 -2.25219080e-12\n",
      "  5.58833491e-12 -3.05371558e-12]\n",
      "[0. 0. 0. 0. 0. 0.] [-4.12489388e-12 -7.87738862e-13 -5.71284787e-12 -2.17138511e-12\n",
      "  1.71623856e-12 -2.46362661e-12]\n",
      "[0. 0. 0. 0. 0. 0.] [-8.64032871e-13 -5.64510894e-13 -2.59536409e-12 -2.17138511e-12\n",
      "  1.71623856e-12 -2.46362661e-12]\n",
      "[0. 0. 0. 0. 0. 0.] [-9.82648593e-13 -2.53505753e-12  2.04568332e-12 -2.18392955e-12\n",
      "  9.96883571e-13 -7.14601901e-13]\n",
      "[0. 0. 0. 0. 0. 0.] [-8.15359610e-06 -8.05771729e-05  5.36737481e-05 -1.25266840e-04\n",
      "  5.71797084e-05 -4.09884660e-05]\n",
      "[0. 0. 0. 0. 0. 0.] [ 1.94087308e-05 -4.19450354e-05 -4.36346291e-05  1.58980893e-06\n",
      "  2.44607087e-05  3.36904610e-05]\n",
      "[0. 0. 0. 0. 0. 0.] [ 3.36415844e-04 -5.29942513e-04 -6.05141494e-04  2.31168649e-05\n",
      "  3.55674753e-04  4.89881406e-04]\n",
      "[0. 0. 0. 0. 0. 0.] [ 3.05181651e-13 -1.48820275e-12  4.45380937e-12 -3.78844329e-13\n",
      "  3.84858685e-13  1.16662351e-12]\n",
      "[0. 0. 0. 0. 0. 0.] [-1.84116491e-13 -9.79690194e-13  2.52943918e-12 -3.78844329e-13\n",
      "  3.84858685e-13  1.16662351e-12]\n",
      "[0. 0. 0. 0. 0. 0.] [-1.09290879e-04 -7.58055024e-06 -5.08521478e-05 -1.86575035e-05\n",
      " -6.67315721e-05 -3.60028411e-05]\n",
      "[0. 0. 0. 0. 0. 0.] [-7.83954367e-05  4.97460439e-06 -2.00685841e-05 -1.45401680e-05\n",
      " -5.20052572e-05 -2.80577386e-05]\n",
      "[0. 0. 0. 0. 0. 0.] [-2.92652540e-12 -9.29308036e-13  3.58738865e-12 -2.83385568e-12\n",
      "  1.16995310e-12 -9.77463201e-13]\n",
      "[0. 0. 0. 0. 0. 0.] [-2.68566602e-05  2.25452566e-05  8.11648433e-05 -1.49686816e-04\n",
      "  6.17979792e-05 -5.16304890e-05]\n",
      "[0. 0. 0. 0. 0. 0.] [-3.24860557e-05 -8.00721618e-06  6.84938578e-05 -8.18356673e-05\n",
      "  9.23141881e-05 -3.69966543e-05]\n",
      "[0. 0. 0. 0. 0. 0.] [-2.58934930e-05  2.45823266e-05  3.12490484e-05 -6.09764192e-05\n",
      "  6.87840501e-05 -2.75665071e-05]\n",
      "[0. 0. 0. 0. 0. 0.] [-9.93507307e-05  2.84036195e-05 -2.05667025e-04 -5.94684534e-05\n",
      " -7.59899278e-05 -3.00161172e-05]\n",
      "[0. 0. 0. 0. 0. 0.] [-3.70973118e-05  2.89102178e-05 -7.27604824e-05 -2.72896976e-05\n",
      " -3.48712979e-05 -1.37742066e-05]\n",
      "[0. 0. 0. 0. 0. 0.] [-0.00012813  0.00016326 -0.00067339 -0.00013608  0.00013386 -0.00018322]\n",
      "[0. 0. 0. 0. 0. 0.] [-0.00017854  0.00025599 -0.00068868 -0.00015088  0.00014842 -0.00020314]\n",
      "[0. 0. 0. 0. 0. 0.] [-1.78226885e-04 -1.49510616e-04 -3.23834069e-05 -2.18500783e-04\n",
      "  4.72516944e-04 -2.57143265e-04]\n",
      "[0. 0. 0. 0. 0. 0.] [-1.01115436e-04 -2.29554059e-05 -1.54926371e-04 -2.39689076e-04\n",
      "  5.18337501e-04 -2.82078768e-04]\n",
      "[0. 0. 0. 0. 0. 0.] [-7.42108578e-05  1.12899532e-04 -8.64360985e-04 -2.36485094e-04\n",
      "  1.13155048e-04 -2.38945039e-04]\n",
      "[0. 0. 0. 0. 0. 0.] [-2.62301521e-05  9.40898781e-05 -3.01528692e-04 -9.92442948e-05\n",
      "  4.74871067e-05 -1.00276645e-04]\n",
      "[0. 0. 0. 0. 0. 0.] [-3.48548518e-04  2.28791838e-04 -1.86190980e-05  7.75799933e-05\n",
      " -5.47580725e-05  2.47549515e-05]\n",
      "[0. 0. 0. 0. 0. 0.] [-5.05959136e-05  2.17444350e-05  7.26762616e-09  9.78532556e-06\n",
      " -6.90674932e-06  3.12239341e-06]\n"
     ]
    },
    {
     "ename": "NameError",
     "evalue": "name 'mini_batch' is not defined",
     "output_type": "error",
     "traceback": [
      "\u001b[0;31m---------------------------------------------------------------------------\u001b[0m",
      "\u001b[0;31mNameError\u001b[0m                                 Traceback (most recent call last)",
      "Cell \u001b[0;32mIn[13], line 19\u001b[0m\n\u001b[1;32m     13\u001b[0m     \u001b[38;5;28mprint\u001b[39m(node\u001b[38;5;241m.\u001b[39merror_alpha, node\u001b[38;5;241m.\u001b[39merror_delta)\n\u001b[1;32m     14\u001b[0m     \u001b[38;5;66;03m# print(node.theta,node.activation,node.f)\u001b[39;00m\n\u001b[1;32m     15\u001b[0m     \u001b[38;5;66;03m# print(node.compliance)\u001b[39;00m\n\u001b[1;32m     16\u001b[0m     \u001b[38;5;66;03m# print(node.layer,node.index)\u001b[39;00m\n\u001b[1;32m     17\u001b[0m \u001b[38;5;66;03m# print(a)\u001b[39;00m\n\u001b[1;32m     18\u001b[0m \u001b[38;5;66;03m# print(b)\u001b[39;00m\n\u001b[0;32m---> 19\u001b[0m Model\u001b[38;5;241m.\u001b[39mFeedForward(root, \u001b[43mmini_batch\u001b[49m[\u001b[38;5;241m0\u001b[39m][\u001b[38;5;241m0\u001b[39m], mini_batch[\u001b[38;5;241m0\u001b[39m][\u001b[38;5;241m1\u001b[39m])\n\u001b[1;32m     20\u001b[0m \u001b[38;5;28mprint\u001b[39m(mini_batch[\u001b[38;5;241m0\u001b[39m][\u001b[38;5;241m2\u001b[39m], root\u001b[38;5;241m.\u001b[39mrotated_compliance)\n",
      "\u001b[0;31mNameError\u001b[0m: name 'mini_batch' is not defined"
     ]
    }
   ],
   "source": [
    "# a,b = Model.update_mini_batch(mini_batch,root)\n",
    "\n",
    "\n",
    "# indxs = 2**N\n",
    "nodes = []\n",
    "\n",
    "for i in range(1, 2**N + 1):\n",
    "    nodes.append(Model.fetch_node(root, N, i))\n",
    "# print(root.error_alpha,root.error_delta)\n",
    "\n",
    "\n",
    "for node in nodes:\n",
    "    print(node.error_alpha, node.error_delta)\n",
    "    # print(node.theta,node.activation,node.f)\n",
    "    # print(node.compliance)\n",
    "    # print(node.layer,node.index)\n",
    "# print(a)\n",
    "# print(b)\n",
    "Model.FeedForward(root, mini_batch[0][0], mini_batch[0][1])\n",
    "print(mini_batch[0][2], root.rotated_compliance)"
   ]
  },
  {
   "cell_type": "code",
   "execution_count": null,
   "metadata": {},
   "outputs": [],
   "source": [
    "def calculate_nu_E(C):\n",
    "    c11 = C[0, 0]\n",
    "    c12 = C[0, 1]\n",
    "    c33 = C[2, 2]\n",
    "\n",
    "    nu_calc = 1 / 2 - c33 / (c11 + c12)\n",
    "    E = 2 * (1 + nu_calc) * c33\n",
    "\n",
    "    return E, nu_calc\n",
    "\n",
    "\n",
    "x1 = training_data[0]\n",
    "x2 = training_data[1]\n",
    "x4 = training_data[3]\n",
    "x6 = training_data[5]\n",
    "x10 = training_data[9]\n",
    "xs = [x1, x2, x4, x6, x10]\n",
    "\n",
    "for i in range(3):\n",
    "    for j in range(len(xs)):\n",
    "        # print(DMN.convert_vectorised(xs[0][i]))\n",
    "        # print(DMN.convert_vectorised(xs[1][i]))\n",
    "        # print(DMN.convert_vectorised(xs[2][i]))\n",
    "\n",
    "        print(DMN.convert_vectorised(xs[j][i]))\n",
    "\n",
    "        # print(np.linalg.norm(DMN.convert_vectorised(xs[j][i])))\n",
    "        D = DMN.convert_vectorised(xs[j][i])\n",
    "        e_val, e_vect = np.linalg.eig(D)\n",
    "        # print('Eigenvalues:',e_val)\n",
    "\n",
    "        # print(np.linalg.norm(DMN.convert_vectorised(xs[0][i])))\n",
    "        # print(np.linalg.norm(DMN.convert_vectorised(xs[1][i])))\n",
    "        # print(np.linalg.norm(DMN.convert_vectorised(xs[2][i])))\n",
    "        E, nu = calculate_nu_E(np.linalg.inv(DMN.convert_vectorised(xs[j][i])))\n",
    "\n",
    "        # print(f'Youngs Modulus: {E:.2f} GPa, Poissons Ratio: {nu:.2f}')\n",
    "\n",
    "        # print(calculate_nu_E(np.linalg.inv(DMN.convert_vectorised(xs[0][i]))))\n",
    "        # print(calculate_nu_E(np.linalg.inv(DMN.convert_vectorised(xs[1][i]))))\n",
    "        # print(calculate_nu_E(np.linalg.inv(DMN.convert_vectorised(xs[2][i]))))\n",
    "        # print(calculate_nu_E(np.linalg.inv(DMN.convert_vectorised(xs[3][i]))))\n",
    "    print(\"------------------------------------------\")"
   ]
  },
  {
   "cell_type": "code",
   "execution_count": null,
   "metadata": {},
   "outputs": [],
   "source": [
    "a, b, c, root = DMN.load_model(\"model_N=3.pkl\")\n",
    "\n",
    "Model = DMN.Tree(a[\"N\"])\n",
    "\n",
    "# Model.FeedForward(root,training_data[0][0],training_data[0][1])\n",
    "\n",
    "nodes = []\n",
    "\n",
    "for i in range(1, 2 ** a[\"N\"] + 1):\n",
    "    nodes.append(Model.fetch_node(root, a[\"N\"], i))\n",
    "# print(root.error_alpha,root.error_delta)\n",
    "\n",
    "\n",
    "for node in nodes:\n",
    "    print(node.theta * 180 / np.pi, node.activation, node.f)"
   ]
  },
  {
   "cell_type": "markdown",
   "metadata": {},
   "source": []
  },
  {
   "cell_type": "markdown",
   "metadata": {},
   "source": []
  },
  {
   "cell_type": "code",
   "execution_count": null,
   "metadata": {},
   "outputs": [],
   "source": [
    "N_samples = 50\n",
    "lam = np.random.uniform((-7), (-3), (N_samples, 1))\n",
    "lr = np.random.uniform(-4, -0.5, (N_samples, 1))\n",
    "\n",
    "\n",
    "samples = np.hstack((10**lr, 10**lam))\n",
    "with open(\"params.txt\", \"w\", newline=\"\") as file:\n",
    "    writer = csv.writer(file)\n",
    "    writer.writerows(samples)\n",
    "\n",
    "\n",
    "samples"
   ]
  },
  {
   "cell_type": "code",
   "execution_count": null,
   "metadata": {},
   "outputs": [],
   "source": [
    "files = os.listdir(\"DMN_HPC/results\")\n",
    "\n",
    "errs = []\n",
    "\n",
    "for index, file in enumerate(files):\n",
    "    metadata, training_err, val_error, root = DMN.load_model(\"DMN_HPC/results/\" + file)\n",
    "\n",
    "    # print(metadata)\n",
    "    N = metadata[\"N\"]\n",
    "    epoch_num = metadata[\"Epochs\"]\n",
    "    lr = metadata[\"learming_rate\"]\n",
    "    lam = metadata[\"regularisation\"]\n",
    "    opt = metadata[\"optimiser\"]\n",
    "    errs.append(lam)\n",
    "    # print(epoch_num)\n",
    "    # if N ==5 and epoch_num > 8000:\n",
    "    #     plt.plot(val_error,label = f'lr = {lr:2e}, lam = {lam:2e}, opt = {opt}')\n",
    "    #     plt.legend()\n",
    "\n",
    "    if min(training_err) < 4:\n",
    "        print(min(training_err))\n",
    "        print(file)\n",
    "\n",
    "        # plt.xscale('log')\n",
    "        # plt.yscale('log')\n",
    "        plt.plot(\n",
    "            val_error, label=f\"lr = {lr:.1e}, lam = {lam:.1e}, opt = {opt},N = {N}\"\n",
    "        )\n",
    "\n",
    "        plt.legend()\n",
    "\n",
    "# plt.close()"
   ]
  },
  {
   "cell_type": "code",
   "execution_count": null,
   "metadata": {},
   "outputs": [],
   "source": []
  },
  {
   "cell_type": "code",
   "execution_count": null,
   "metadata": {},
   "outputs": [],
   "source": []
  }
 ],
 "metadata": {
  "kernelspec": {
   "display_name": "fenicsx-env",
   "language": "python",
   "name": "python3"
  },
  "language_info": {
   "codemirror_mode": {
    "name": "ipython",
    "version": 3
   },
   "file_extension": ".py",
   "mimetype": "text/x-python",
   "name": "python",
   "nbconvert_exporter": "python",
   "pygments_lexer": "ipython3",
   "version": "3.13.2"
  }
 },
 "nbformat": 4,
 "nbformat_minor": 2
}
