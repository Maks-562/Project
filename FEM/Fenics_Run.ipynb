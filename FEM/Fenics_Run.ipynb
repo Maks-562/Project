{
 "cells": [
  {
   "cell_type": "markdown",
   "metadata": {},
   "source": []
  },
  {
   "cell_type": "code",
   "execution_count": 1,
   "metadata": {},
   "outputs": [],
   "source": [
    "from IPython.display import display, Math\n",
    "import pyvista\n",
    "from dolfinx import mesh, fem, plot, io, default_scalar_type\n",
    "from dolfinx.fem.petsc import LinearProblem\n",
    "from mpi4py import MPI\n",
    "import ufl\n",
    "import numpy as np\n",
    "from dolfinx.io import gmshio\n",
    "from ufl import SpatialCoordinate\n",
    "from petsc4py import PETSc\n",
    "from dolfinx.plot import vtk_mesh"
   ]
  },
  {
   "cell_type": "code",
   "execution_count": 2,
   "metadata": {},
   "outputs": [],
   "source": [
    "nx, ny = 10, 10\n",
    "E = 30 * 10**6\n",
    "nu = 0.35\n",
    "\n",
    "traction = (0, 0)\n",
    "traction2 = (0, 0)\n",
    "traction3 = (0, 0)\n",
    "traction4 = (0, 0)\n",
    "\n",
    "stress_interp_level = 1"
   ]
  },
  {
   "cell_type": "code",
   "execution_count": 3,
   "metadata": {},
   "outputs": [],
   "source": [
    "L = 0.01\n",
    "N = 3\n",
    "msh = mesh.create_rectangle(\n",
    "    MPI.COMM_WORLD,\n",
    "    points=[(0, 0), (L, L)],\n",
    "    n=(N, N),\n",
    "    cell_type=mesh.CellType.quadrilateral,\n",
    ")\n",
    "\n",
    "\n",
    "def left(x):\n",
    "    return x[1] <= L / 2\n",
    "\n",
    "\n",
    "def right(x):\n",
    "    return x[1] >= L / 2\n",
    "\n",
    "\n",
    "left_cells = mesh.locate_entities(msh, dim=2, marker=left)\n",
    "right_cells = mesh.locate_entities(msh, dim=2, marker=right)\n",
    "\n",
    "\n",
    "cell_tags = np.full(msh.topology.index_map(2).size_local, -1, dtype=np.int32)\n",
    "cell_tags[left_cells] = 1\n",
    "cell_tags[right_cells] = 2\n",
    "\n",
    "msh.topology.create_connectivity(2, 0)\n",
    "\n",
    "cell_markers = mesh.meshtags(\n",
    "    msh,\n",
    "    2,\n",
    "    np.concatenate([left_cells, right_cells]),\n",
    "    np.concatenate(\n",
    "        [\n",
    "            np.full(len(left_cells), 1, dtype=np.int32),\n",
    "            np.full(len(right_cells), 2, dtype=np.int32),\n",
    "        ]\n",
    "    ),\n",
    ")"
   ]
  },
  {
   "cell_type": "code",
   "execution_count": 4,
   "metadata": {},
   "outputs": [
    {
     "data": {
      "text/plain": [
       "6"
      ]
     },
     "execution_count": 4,
     "metadata": {},
     "output_type": "execute_result"
    }
   ],
   "source": [
    "# domain = mesh.create_unit_square(MPI.COMM_WORLD, nx, ny,cell_type=mesh.CellType.quadrilateral)\n",
    "\n",
    "# msh, cell_markers, facet_markers = gmshio.read_from_msh(\"randomInclusions2DCirlce.msh\", MPI.COMM_WORLD, gdim=2)\n",
    "cell_tags = np.full(msh.topology.index_map(2).size_local, -1, dtype=np.int32)\n",
    "\n",
    "V = fem.functionspace(msh, element=(\"CG\", 1, (2,)))\n",
    "\n",
    "u = ufl.TrialFunction(V)\n",
    "v = ufl.TestFunction(V)\n",
    "\n",
    "\n",
    "cell_markers.values.size"
   ]
  },
  {
   "cell_type": "code",
   "execution_count": null,
   "metadata": {},
   "outputs": [],
   "source": []
  },
  {
   "cell_type": "code",
   "execution_count": 5,
   "metadata": {},
   "outputs": [],
   "source": [
    "# DOF = msh.geometry.dofmap\n",
    "\n",
    "# a = msh.geometry.index_map()\n",
    "# b = msh.topology.create_connectivity(1, 1)\n",
    "\n",
    "\n",
    "# V.dofmap.list.shape,DOF.shape,msh.geometry.x.shape\n",
    "\n"
   ]
  },
  {
   "cell_type": "code",
   "execution_count": 6,
   "metadata": {},
   "outputs": [],
   "source": [
    "def clamped_boundary(x):\n",
    "    return np.isclose(x[1], 0.0)\n",
    "    # return np.isclose(x[1],0)\n",
    "\n",
    "\n",
    "def clamped_boundary2(x):\n",
    "    # if True in (np.isclose(x[1],0.01) & np.isclose(x[0], 0.01)):\n",
    "    #     print('True')\n",
    "    return np.isclose(x[1], 0.01)\n",
    "\n",
    "\n",
    "def clamped_boundary3(x):\n",
    "    return np.isclose(x[0], 0)\n",
    "\n",
    "\n",
    "def clamped_boundary4(x):\n",
    "    return np.isclose(x[0], 0.01)\n",
    "\n",
    "\n",
    "def clamped_boundary0(x):\n",
    "    return np.isclose(x[0], 23131231)\n",
    "\n",
    "\n",
    "def traction_boundary(x):\n",
    "    return np.isclose(x[1], 0)\n",
    "\n",
    "\n",
    "def traction_boundary2(x):\n",
    "    return np.isclose(x[1], 0.01)\n",
    "\n",
    "\n",
    "def traction_boundary3(x):\n",
    "    return np.isclose(x[0], 0)\n",
    "\n",
    "\n",
    "def traction_boundary4(x):\n",
    "    return np.isclose(x[0], 0.01)\n",
    "\n",
    "\n",
    "fdim = msh.topology.dim - 1\n",
    "boundary_facets = mesh.locate_entities_boundary(msh, fdim, clamped_boundary)\n",
    "boundary_facets2 = mesh.locate_entities_boundary(msh, fdim, clamped_boundary2)\n",
    "boundary_facets3 = mesh.locate_entities_boundary(msh, fdim, clamped_boundary3)\n",
    "boundary_facets4 = mesh.locate_entities_boundary(msh, fdim, clamped_boundary4)\n",
    "boundary_facets0 = mesh.locate_entities_boundary(msh, fdim, clamped_boundary0)"
   ]
  },
  {
   "cell_type": "code",
   "execution_count": 7,
   "metadata": {},
   "outputs": [],
   "source": [
    "u_D1 = np.array([0.0000001, 0.00], dtype=default_scalar_type)\n",
    "\n",
    "# u_D1 = fem.Constant(msh, PETSc.ScalarType(0.0))\n",
    "bc1 = fem.dirichletbc(u_D1, fem.locate_dofs_topological(V, fdim, boundary_facets3), V)\n",
    "\n",
    "\n",
    "u_D2 = np.array([-0.0, -0.00], dtype=default_scalar_type)\n",
    "bc2 = fem.dirichletbc(u_D2, fem.locate_dofs_topological(V, fdim, boundary_facets4), V)\n",
    "\n",
    "\n",
    "# u_D3 = np.array([0.0,0.0000000000], dtype=default_scalar_type)\n",
    "# def f_bc(x):\n",
    "#     zero = fem.Constant(msh, default_scalar_type((1, 0)))\n",
    "#     return ufl.dot(x, zero)\n",
    "\n",
    "# x = SpatialCoordinate(msh)\n",
    "# f_bc = lambda x: ufl.as_vector(np.stack((x[0],np.zeros_like(x[0]))))\n",
    "\n",
    "\n",
    "# ubc = f_bc(x)\n",
    "# def u_b3_exp(x):\n",
    "#     # print(x)\n",
    "#     # print(np.shape(np.vstack((x[0], np.zeros_like(x[0])))))\n",
    "#     # return np.vstack((x[0], np.zeros_like(x[0])),dtype=default_scalar_type)\n",
    "#     zero = fem.Constant(msh, default_scalar_type((1, 0)))\n",
    "#     return ufl.dot(x, zero)\n",
    "\n",
    "# u_b3_exp = ufl.as_vector([x[0],0])\n",
    "u_b3_func = fem.Function(V)\n",
    "# # d = f_bc(u)\n",
    "# u_b3_exp = fem.Expression(ubc\n",
    "#     ,\n",
    "#     V.element.interpolation_points(),\n",
    "\n",
    "\n",
    "# u_b3_func.interpolate(lambda x: np.vstack([x[0],np.zeros_like(x[0])], dtype=default_scalar_type),fem.locate_dofs_topological(V, fdim, boundary_facets3))\n",
    "# # u_b3_func.interpolate(lambda x: np.stack((x[0], 0)))\n",
    "# print(u_b3_func.x.array.shape)\n",
    "# bc3 = fem.dirichletbc(u_b3_func, fem.locate_dofs_topological(V, fdim, boundary_facets3), V)\n",
    "\n",
    "# def f2(x):\n",
    "#     return -x[0]\n",
    "\n",
    "# # u_D4 =  np.array([0,-0.0000000000], dtype=default_scalar_type)\n",
    "# u_b4 = fem.Function(V)\n",
    "# u_b4.interpolate(f2)\n",
    "# bc4 = fem.dirichletbc(u_b4, fem.locate_dofs_topological(V, fdim, boundary_facets4), V)\n",
    "\n",
    "\n",
    "bc0 = fem.dirichletbc(\n",
    "    np.array([0, -0.0000000000], dtype=default_scalar_type),\n",
    "    fem.locate_dofs_topological(V, fdim, boundary_facets0),\n",
    "    V,\n",
    ")\n",
    "\n",
    "traction_boundary_facets1 = mesh.locate_entities_boundary(msh, fdim, traction_boundary)\n",
    "traction_boundary_facets2 = mesh.locate_entities_boundary(msh, fdim, traction_boundary2)\n",
    "traction_boundary_facets3 = mesh.locate_entities_boundary(msh, fdim, traction_boundary3)\n",
    "traction_boundary_facets4 = mesh.locate_entities_boundary(msh, fdim, traction_boundary4)\n",
    "\n",
    "facet_markers1 = np.full(len(traction_boundary_facets1), 1, dtype=np.int32)\n",
    "facet_markers2 = np.full(len(traction_boundary_facets2), 2, dtype=np.int32)\n",
    "facet_markers3 = np.full(len(traction_boundary_facets3), 3, dtype=np.int32)\n",
    "facet_markers4 = np.full(len(traction_boundary_facets4), 4, dtype=np.int32)\n",
    "\n",
    "\n",
    "facet_tags1 = mesh.meshtags(msh, fdim, traction_boundary_facets1, facet_markers1)\n",
    "facet_tags2 = mesh.meshtags(msh, fdim, traction_boundary_facets2, facet_markers2)\n",
    "facet_tags3 = mesh.meshtags(msh, fdim, traction_boundary_facets3, facet_markers3)\n",
    "facet_tags4 = mesh.meshtags(msh, fdim, traction_boundary_facets4, facet_markers4)\n",
    "\n",
    "\n",
    "combined_facets = np.concatenate(\n",
    "    [\n",
    "        traction_boundary_facets1,\n",
    "        traction_boundary_facets2,\n",
    "        traction_boundary_facets3,\n",
    "        traction_boundary_facets4,\n",
    "    ]\n",
    ")\n",
    "combined_markers = np.concatenate(\n",
    "    [facet_markers1, facet_markers2, facet_markers3, facet_markers4]\n",
    ")\n",
    "\n",
    "facet_tags = mesh.meshtags(msh, fdim, combined_facets, combined_markers)"
   ]
  },
  {
   "cell_type": "markdown",
   "metadata": {},
   "source": []
  },
  {
   "cell_type": "code",
   "execution_count": 8,
   "metadata": {},
   "outputs": [
    {
     "data": {
      "text/plain": [
       "array([1.e+09, 0.e+00, 1.e+09, 1.e+09, 0.e+00, 1.e+09, 1.e+09, 0.e+00,\n",
       "       1.e+09])"
      ]
     },
     "execution_count": 8,
     "metadata": {},
     "output_type": "execute_result"
    }
   ],
   "source": [
    "Elastic_func_space = fem.functionspace(msh, (\"DG\", 0))\n",
    "\n",
    "\n",
    "E = fem.Function(Elastic_func_space)\n",
    "\n",
    "E_inclusion = 10 * 10**8\n",
    "E_bulk = 10 * 10**8\n",
    "\n",
    "# E.x.array[:] = np.where(cell_markers.values == 1, E_inclusion, E_bulk)\n",
    "E.x.array[left_cells] = np.full_like(left_cells, E_bulk, dtype=default_scalar_type)\n",
    "E.x.array[right_cells] = np.full_like(\n",
    "    right_cells, E_inclusion, dtype=default_scalar_type\n",
    ")\n",
    "\n",
    "E.x.array[:]"
   ]
  },
  {
   "cell_type": "code",
   "execution_count": 9,
   "metadata": {},
   "outputs": [],
   "source": [
    "ds = ufl.Measure(\"ds\", domain=msh, subdomain_data=facet_tags)\n",
    "\n",
    "# plane strain\n",
    "lam = E * nu / ((1 + nu) * (1 - 2 * nu))\n",
    "mu = E / (2 * (1 + nu))\n",
    "\n",
    "# plane stress\n",
    "# lambda_ = 2*lam*mu/(lam + 2*mu)\n",
    "lambda_ = E * nu / (1 - nu**2)\n",
    "\n",
    "\n",
    "def epsilon(u):\n",
    "    return 0.5 * (ufl.nabla_grad(u) + ufl.nabla_grad(u).T)\n",
    "\n",
    "\n",
    "def sigma(u):\n",
    "    return lam * ufl.tr(epsilon(u)) * ufl.Identity(len(u)) + 2 * mu * epsilon(u)"
   ]
  },
  {
   "cell_type": "code",
   "execution_count": 10,
   "metadata": {},
   "outputs": [],
   "source": [
    "T = fem.Constant(msh, default_scalar_type(traction))\n",
    "\n",
    "T2 = fem.Constant(msh, default_scalar_type(traction2))\n",
    "\n",
    "T3 = fem.Constant(msh, default_scalar_type(traction3))\n",
    "T4 = fem.Constant(msh, default_scalar_type(traction4))\n",
    "\n",
    "\n",
    "f = fem.Constant(msh, default_scalar_type((0, 0)))\n",
    "\n",
    "a = ufl.inner(sigma(u), epsilon(v)) * ufl.dx\n",
    "L = (\n",
    "    ufl.dot(f, v) * ufl.dx\n",
    "    + ufl.dot(T, v) * ds(1)\n",
    "    + ufl.dot(T2, v) * ds(2)\n",
    "    + ufl.dot(T3, v) * ds(3)\n",
    "    + ufl.dot(T4, v) * ds(4)\n",
    ")\n",
    "# L = ufl.dot(f, v) * ufl.dx\n",
    "\n",
    "problem = LinearProblem(\n",
    "    a, L, bcs=[bc1, bc2], petsc_options={\"ksp_type\": \"preonly\", \"pc_type\": \"lu\"}\n",
    ")\n",
    "uh = problem.solve()"
   ]
  },
  {
   "cell_type": "code",
   "execution_count": 11,
   "metadata": {},
   "outputs": [
    {
     "data": {
      "text/plain": [
       "(<FieldAssociation.CELL: 1>,\n",
       " pyvista_ndarray([-1, -1, -1, -1, -1, -1, -1, -1, -1], dtype=int32))"
      ]
     },
     "execution_count": 11,
     "metadata": {},
     "output_type": "execute_result"
    }
   ],
   "source": [
    "topology, cell_types, geometry = plot.vtk_mesh(V)\n",
    "g = pyvista.UnstructuredGrid(topology, cell_types, geometry)\n",
    "\n",
    "g.point_data[\"u\"] = uh.x.array.reshape((geometry.shape[0], 2))\n",
    "\n",
    "if g.point_data[\"u\"].shape[1] == 2:\n",
    "    g.point_data[\"u\"] = np.hstack((g.point_data[\"u\"], np.zeros((geometry.shape[0], 1))))\n",
    "g.point_data[\"u\"]\n",
    "warped = g.warp_by_vector(\"u\", factor=10000)\n",
    "g.cell_data[\"E\"] = cell_tags\n",
    "g.set_active_scalars(\"E\")"
   ]
  },
  {
   "cell_type": "code",
   "execution_count": null,
   "metadata": {},
   "outputs": [],
   "source": []
  },
  {
   "cell_type": "code",
   "execution_count": 12,
   "metadata": {},
   "outputs": [
    {
     "name": "stderr",
     "output_type": "stream",
     "text": [
      "MESA: error: ZINK: failed to choose pdev\n",
      "glx: failed to create drisw screen\n"
     ]
    },
    {
     "data": {
      "application/vnd.jupyter.widget-view+json": {
       "model_id": "b1393e5c02a14714bfe1f90088efe4a4",
       "version_major": 2,
       "version_minor": 0
      },
      "text/plain": [
       "EmbeddableWidget(value='<iframe srcdoc=\"<!DOCTYPE html>\\n<html>\\n  <head>\\n    <meta http-equiv=&quot;Content-…"
      ]
     },
     "metadata": {},
     "output_type": "display_data"
    }
   ],
   "source": [
    "pyvista.start_xvfb()\n",
    "pyvista.set_jupyter_backend(\"html\")\n",
    "\n",
    "plotter = pyvista.Plotter()\n",
    "# plotter.add_mesh(g,show_edges=True, scalars=\"E\", show_scalar_bar=True)\n",
    "plotter.add_mesh(warped, show_edges=True, cmap=\"jet\")\n",
    "plotter.view_xy()\n",
    "plotter.show()"
   ]
  },
  {
   "cell_type": "code",
   "execution_count": 13,
   "metadata": {},
   "outputs": [],
   "source": [
    "s_indicies = [1, 1]\n",
    "\n",
    "s_indicies_all = {\"[0, 0]\": \"11\", \"[0, 1]\": \"12\", \"[1, 1]\": \"22\"}"
   ]
  },
  {
   "cell_type": "code",
   "execution_count": 14,
   "metadata": {},
   "outputs": [],
   "source": [
    "s = sigma(uh)[s_indicies[0], s_indicies[1]]\n",
    "eps = epsilon(uh)[s_indicies[0], s_indicies[1]]"
   ]
  },
  {
   "cell_type": "code",
   "execution_count": 15,
   "metadata": {},
   "outputs": [],
   "source": [
    "V_interp = fem.functionspace(msh, (\"CG\", 1))\n",
    "\n",
    "stresses = fem.Function(V_interp)\n",
    "strains = fem.Function(V_interp)\n",
    "\n",
    "\n",
    "stress_expr = fem.Expression(s, V_interp.element.interpolation_points())\n",
    "strains_expr = fem.Expression(eps, V_interp.element.interpolation_points())\n",
    "\n",
    "\n",
    "stresses.interpolate(stress_expr)\n",
    "strains.interpolate(strains_expr)\n",
    "\n",
    "topology, cell_types, geometry = plot.vtk_mesh(V_interp)"
   ]
  },
  {
   "cell_type": "code",
   "execution_count": null,
   "metadata": {},
   "outputs": [
    {
     "name": "stdout",
     "output_type": "stream",
     "text": [
      "(16, 3) (32,) (16,)\n"
     ]
    },
    {
     "name": "stderr",
     "output_type": "stream",
     "text": [
      "MESA: error: ZINK: failed to choose pdev\n",
      "glx: failed to create drisw screen\n",
      "D3D12: Removing Device.\n"
     ]
    },
    {
     "data": {
      "application/vnd.jupyter.widget-view+json": {
       "model_id": "9ec0176353914842b256973d19a7a111",
       "version_major": 2,
       "version_minor": 0
      },
      "text/plain": [
       "EmbeddableWidget(value='<iframe srcdoc=\"<!DOCTYPE html>\\n<html>\\n  <head>\\n    <meta http-equiv=&quot;Content-…"
      ]
     },
     "metadata": {},
     "output_type": "display_data"
    }
   ],
   "source": [
    "grid_s = pyvista.UnstructuredGrid(topology, cell_types, geometry)\n",
    "\n",
    "legend_name = \"S\" + s_indicies_all[str(s_indicies)]\n",
    "\n",
    "grid_s.point_data[legend_name] = stresses.x.petsc_vec.array\n",
    "\n",
    "\n",
    "print(geometry.shape, uh.x.array.shape, stresses.x.array.shape)\n",
    "\n",
    "grid_s.point_data[\"u\"] = uh.x.array.reshape((geometry.shape[0], 2))\n",
    "\n",
    "if grid_s.point_data[\"u\"].shape[1] == 2:\n",
    "    grid_s.point_data[\"u\"] = np.hstack(\n",
    "        (grid_s.point_data[\"u\"], np.zeros((geometry.shape[0], 1)))\n",
    "    )\n",
    "grid_s.point_data[\"u\"]\n",
    "\n",
    "warped = grid_s.warp_by_vector(\"u\", factor=10000)\n",
    "\n",
    "\n",
    "# print(geometry)\n",
    "\n",
    "grid_s.set_active_scalars(legend_name)\n",
    "\n",
    "p = pyvista.Plotter()\n",
    "# warped.set_active_scalars(legend_name)\n",
    "\n",
    "# p.add_mesh(grid_s,show_edges=False,cmap = \"jet\")\n",
    "S\n",
    "p.add_mesh(warped, show_edges=True, cmap=\"jet\")\n",
    "\n",
    "\n",
    "p.show_axes()\n",
    "p.view_xy()\n",
    "p.show()"
   ]
  },
  {
   "cell_type": "code",
   "execution_count": 17,
   "metadata": {},
   "outputs": [
    {
     "data": {
      "text/plain": [
       "((16, 3), (16,), (16,))"
      ]
     },
     "execution_count": 17,
     "metadata": {},
     "output_type": "execute_result"
    }
   ],
   "source": [
    "geometry.shape, stresses.x.array.shape, strains.x.array.shape"
   ]
  },
  {
   "cell_type": "code",
   "execution_count": 18,
   "metadata": {},
   "outputs": [
    {
     "name": "stdout",
     "output_type": "stream",
     "text": [
      "value of integral: -8203.01783264746 -9.999999999999996e-06\n",
      "value of integral: -1124.8285322359407 1.4444444444444479e-06\n",
      "value of integral: -1.71954464556201e-12 -4.564033653246686e-22\n"
     ]
    },
    {
     "data": {
      "text/plain": [
       "(array([[-9755.0154321 ],\n",
       "        [-2474.92283951],\n",
       "        [   75.23148148]]),\n",
       " array([[-9.85416667e-06],\n",
       "        [ 1.62500000e-06],\n",
       "        [-6.88214270e-21]]))"
      ]
     },
     "execution_count": 18,
     "metadata": {},
     "output_type": "execute_result"
    }
   ],
   "source": [
    "indices = [[0, 0], [1, 1], [0, 1]]\n",
    "\n",
    "stresses = fem.Function(V_interp)\n",
    "strains = fem.Function(V_interp)\n",
    "\n",
    "S_arr = []\n",
    "Eps_arr = []\n",
    "\n",
    "for s_index in indices:\n",
    "    s_indices = s_index\n",
    "\n",
    "    s = sigma(uh)[s_indices[0], s_indices[1]]\n",
    "    # print(s)\n",
    "    eps = epsilon(uh)[s_indices[0], s_indices[1]]\n",
    "    integral_stress = fem.assemble_scalar(fem.form(s * ufl.dx)) / (0.01) ** 2\n",
    "    intergal_strain = fem.assemble_scalar(fem.form(eps * ufl.dx)) / (0.01) ** 2\n",
    "    print(\"value of integral:\", integral_stress, intergal_strain)\n",
    "\n",
    "    stress_expr = fem.Expression(s, V_interp.element.interpolation_points())\n",
    "    strains_expr = fem.Expression(eps, V_interp.element.interpolation_points())\n",
    "\n",
    "    stresses.interpolate(stress_expr)\n",
    "    strains.interpolate(strains_expr)\n",
    "\n",
    "    S_arr.append(np.mean(stresses.x.petsc_vec.array.copy()))\n",
    "    if s_indices[0] == 0 and s_indices[1] == 1:\n",
    "        Eps_arr.append(np.mean(2 * strains.x.petsc_vec.array.copy()))\n",
    "    else:\n",
    "        Eps_arr.append(np.mean(strains.x.petsc_vec.array.copy()))\n",
    "\n",
    "S = np.vstack((S_arr[0], S_arr[1], S_arr[2]))\n",
    "Eps = np.vstack((Eps_arr[0], Eps_arr[1], Eps_arr[2]))\n",
    "# topology, cell_types, geometry = plot.vtk_mesh(V_interp)\n",
    "S, Eps\n",
    "\n",
    "# .0001"
   ]
  },
  {
   "cell_type": "code",
   "execution_count": 19,
   "metadata": {},
   "outputs": [],
   "source": [
    "def elasticity_matrix(E, nu):\n",
    "    # plane strain elasticity matrix\n",
    "    Ce = np.array([[1 - nu, nu, 0], [nu, 1 - nu, 0], [0, 0, (1 - 2 * nu) / 2]])\n",
    "    Ce *= E / ((1 - 2 * nu) * (1 + nu))\n",
    "\n",
    "    return Ce"
   ]
  },
  {
   "cell_type": "code",
   "execution_count": 20,
   "metadata": {},
   "outputs": [
    {
     "ename": "TypeError",
     "evalue": "fenics_simple_test() missing 1 required positional argument: 'nu_bulk'",
     "output_type": "error",
     "traceback": [
      "\u001b[0;31m---------------------------------------------------------------------------\u001b[0m",
      "\u001b[0;31mTypeError\u001b[0m                                 Traceback (most recent call last)",
      "Cell \u001b[0;32mIn[20], line 11\u001b[0m\n\u001b[1;32m      7\u001b[0m Eps_tot \u001b[38;5;241m=\u001b[39m np\u001b[38;5;241m.\u001b[39mzeros((\u001b[38;5;241m3\u001b[39m,\u001b[38;5;241m3\u001b[39m))\n\u001b[1;32m      9\u001b[0m \u001b[38;5;28;01mfor\u001b[39;00m i \u001b[38;5;129;01min\u001b[39;00m \u001b[38;5;28mrange\u001b[39m(\u001b[38;5;241m1\u001b[39m,\u001b[38;5;241m4\u001b[39m):\n\u001b[0;32m---> 11\u001b[0m     S, Eps \u001b[38;5;241m=\u001b[39m \u001b[43mfenics_simple_test\u001b[49m\u001b[43m(\u001b[49m\u001b[38;5;241;43m100\u001b[39;49m\u001b[43m,\u001b[49m\u001b[38;5;241;43m100\u001b[39;49m\u001b[43m,\u001b[49m\u001b[43mE_inclusion\u001b[49m\u001b[43m,\u001b[49m\u001b[43mE_bulk\u001b[49m\u001b[43m,\u001b[49m\u001b[43mnu\u001b[49m\u001b[43m,\u001b[49m\u001b[43mload_type\u001b[49m\u001b[38;5;241;43m=\u001b[39;49m\u001b[38;5;28;43mstr\u001b[39;49m\u001b[43m(\u001b[49m\u001b[43mi\u001b[49m\u001b[43m)\u001b[49m\u001b[43m)\u001b[49m\n\u001b[1;32m     13\u001b[0m     S_tot[:,i\u001b[38;5;241m-\u001b[39m\u001b[38;5;241m1\u001b[39m] \u001b[38;5;241m=\u001b[39m S\u001b[38;5;241m.\u001b[39mT\n\u001b[1;32m     14\u001b[0m     Eps_tot[:,i\u001b[38;5;241m-\u001b[39m\u001b[38;5;241m1\u001b[39m] \u001b[38;5;241m=\u001b[39m Eps\u001b[38;5;241m.\u001b[39mT\n",
      "\u001b[0;31mTypeError\u001b[0m: fenics_simple_test() missing 1 required positional argument: 'nu_bulk'"
     ]
    }
   ],
   "source": [
    "from FenicsTest import *\n",
    "\n",
    "E_inclusion = 100 * 10**8\n",
    "E_bulk = 30 * 10**6\n",
    "\n",
    "S_tot = np.zeros((3, 3))\n",
    "Eps_tot = np.zeros((3, 3))\n",
    "\n",
    "for i in range(1, 4):\n",
    "    S, Eps = fenics_simple_test(100, 100, E_inclusion, E_bulk, nu, load_type=str(i))\n",
    "\n",
    "    S_tot[:, i - 1] = S.T\n",
    "    Eps_tot[:, i - 1] = Eps.T\n",
    "\n",
    "\n",
    "C = S_tot @ np.linalg.inv(Eps_tot)\n",
    "\n",
    "ce_inc = elasticity_matrix(E_inclusion, nu)\n",
    "ce_bulk = elasticity_matrix(E_bulk, nu)\n",
    "C, ce_inc, ce_bulk"
   ]
  },
  {
   "cell_type": "code",
   "execution_count": null,
   "metadata": {},
   "outputs": [],
   "source": [
    "def calculate_nu_E(C):\n",
    "    c11 = C[0, 0]\n",
    "    c12 = C[0, 1]\n",
    "    c33 = C[2, 2]\n",
    "\n",
    "    nu_calc = 1 / 2 - c33 / (c11 + c12)\n",
    "    E = 2 * (1 + nu_calc) * c33\n",
    "\n",
    "    return E, nu"
   ]
  },
  {
   "cell_type": "code",
   "execution_count": null,
   "metadata": {},
   "outputs": [],
   "source": [
    "S_tot = np.vstack((S1, S2, S3))\n",
    "Eps_tot = np.vstack((eps1, eps2, eps3))\n",
    "C = S_tot @ np.linalg.inv(Eps_tot)\n",
    "C"
   ]
  },
  {
   "cell_type": "code",
   "execution_count": null,
   "metadata": {},
   "outputs": [],
   "source": []
  }
 ],
 "metadata": {
  "kernelspec": {
   "display_name": "fenicsx-env",
   "language": "python",
   "name": "python3"
  },
  "language_info": {
   "codemirror_mode": {
    "name": "ipython",
    "version": 3
   },
   "file_extension": ".py",
   "mimetype": "text/x-python",
   "name": "python",
   "nbconvert_exporter": "python",
   "pygments_lexer": "ipython3",
   "version": "3.13.2"
  }
 },
 "nbformat": 4,
 "nbformat_minor": 2
}
