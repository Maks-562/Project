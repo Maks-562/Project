{
 "cells": [
  {
   "cell_type": "markdown",
   "metadata": {},
   "source": []
  },
  {
   "cell_type": "code",
   "execution_count": 1,
   "metadata": {},
   "outputs": [],
   "source": [
    "from IPython.display import display, Math\n",
    "import pyvista\n",
    "from dolfinx import mesh, fem, plot, io, default_scalar_type\n",
    "from dolfinx.fem.petsc import LinearProblem\n",
    "from mpi4py import MPI\n",
    "import ufl\n",
    "import numpy as np\n",
    "from dolfinx.io import gmshio\n",
    "from ufl import SpatialCoordinate\n",
    "from petsc4py import PETSc\n",
    "from dolfinx.plot import vtk_mesh\n",
    "\n"
   ]
  },
  {
   "cell_type": "code",
   "execution_count": 2,
   "metadata": {},
   "outputs": [],
   "source": [
    "\n",
    "\n",
    "E_bulk = 100*10**8\n",
    "E_inclusion =150*10**8\n",
    "\n",
    "nu_inclusion = 0.35\n",
    "nu_bulk = 0.35\n",
    "\n",
    "\n",
    "\n",
    "traction =  (0,0)\n",
    "traction2 = (0,0)\n",
    "traction3 = (0,0)\n",
    "traction4 = (0,0)"
   ]
  },
  {
   "cell_type": "code",
   "execution_count": 3,
   "metadata": {},
   "outputs": [
    {
     "name": "stdout",
     "output_type": "stream",
     "text": [
      "[    0     1     2 ... 62497 62498 62499] [   24    31    32 ... 62467 62468 62475]\n"
     ]
    }
   ],
   "source": [
    "L = 0.01\n",
    "N=10\n",
    "num_inc = 25\n",
    "\n",
    "msh = mesh.create_rectangle(MPI.COMM_WORLD,points=[(0,0),(num_inc*L,num_inc*L)],n=(num_inc*N,num_inc*N),cell_type=mesh.CellType.quadrilateral)\n",
    "\n",
    "\n",
    "\n",
    "# def upper(x):\n",
    "#     return (x[1] >=L/3)  &(x[1] <= 2*L/3)\n",
    "\n",
    "# def righter(x):\n",
    "#     return (x[0] >=L/3)  &(x[0] <= 2*L/3)\n",
    "\n",
    "\n",
    "\n",
    "# def middle(x):\n",
    "#     return x[1] >= L/2\n",
    "\n",
    "def mid1(x):\n",
    "     \n",
    "    return(np.logical_and.reduce((\n",
    "        x[1] > L/3 -L/(N),\n",
    "        x[1] < 2*L/3 +L/(N),\n",
    "        x[0] > L/3 -L/(N),\n",
    "        x[0] < 2*L/3 +L/(N)\n",
    "    )))   \n",
    "\n",
    "\n",
    "def mid2(x):\n",
    "    return(np.logical_and.reduce((\n",
    "        x[1] > L/3 -L/(N),\n",
    "        x[1] < 2*L/3 +L/(N),\n",
    "        x[0] > L/3 -L/(N) + L,\n",
    "        x[0] < 2*L/3 +L/(N) + L\n",
    "    )))   \n",
    "def mid3(x):\n",
    "     \n",
    "    return(np.logical_and.reduce((\n",
    "        x[1] > L/3 -L/(N),\n",
    "        x[1] < 2*L/3 +L/(N),\n",
    "        x[0] > L/3 -L/(N) + 2*L,\n",
    "        x[0] < 2*L/3 +L/(N)  + 2*L\n",
    "    )))   \n",
    "\n",
    "\n",
    "\n",
    "# def middle(x):\n",
    "#     return np.logical_or(np.logical_or(\n",
    "#         mid1(x),\n",
    "#         mid3(x)\n",
    "#     ),mid2(x))\n",
    "        \n",
    "def middle(x):\n",
    "    period = L\n",
    "    # x_mod = x.copy()\n",
    "    # x_mod[0] = x[0] % period\n",
    "\n",
    "    # Central region bounds within a cell\n",
    "    buffer = L / N  # inclusion size control\n",
    "    low = L / 3 - buffer\n",
    "    high = 2 * L / 3 + buffer\n",
    "\n",
    "    return np.logical_and.reduce((\n",
    "        x[0]%period > low,\n",
    "        x[0]%period < high,\n",
    "        x[1]%period     > low,\n",
    "        x[1]%period    < high\n",
    "    ))    \n",
    "\n",
    "\n",
    "# def middle(x):\n",
    "#     return x[0] >7182312\n",
    "\n",
    "def b1(x):\n",
    "    return (np.logical_or.reduce((\n",
    "        x[1] < L/3,\n",
    "        x[1] > 2*L/3,\n",
    "        np.logical_and(0<=x[0],x[0] < L/3) ,\n",
    "        np.logical_and(L>x[0],x[0] > 2*L/3)\n",
    "    )))\n",
    "def b2(x):\n",
    "     return (np.logical_or.reduce((\n",
    "        x[1] < L/3,\n",
    "        x[1] > 2*L/3,\n",
    "        np.logical_and(L< x[0] ,x[0]< L/3 + L),\n",
    "        np.logical_and(2*L>x[0] ,x[0]> 2*L/3 + L)\n",
    "    )))\n",
    "def b3(x):\n",
    "     return (np.logical_or.reduce((\n",
    "        x[1] < L/3,\n",
    "        x[1] > 2*L/3,\n",
    "        np.logical_and(2*L <x[0],x[0] < L/3 + 2*L),\n",
    "        np.logical_and(3*L>=x[0] ,x[0]> 2*L/3 +2* L)\n",
    "    )))\n",
    "\n",
    "\n",
    "# def bulk(x):\n",
    "#    return np.logical_or.reduce((\n",
    "#         b1(x),\n",
    "#         b2(x),\n",
    "#         b3(x)\n",
    "#     ))\n",
    "def bulk(x):\n",
    "    return np.logical_not(middle(x))\n",
    "\n",
    "middle_cells = mesh.locate_entities(msh, dim=2, marker=middle)\n",
    "\n",
    "bulk_cells = mesh.locate_entities(msh, dim=2, marker=bulk)\n",
    "print(bulk_cells, middle_cells)\n",
    "\n",
    "\n",
    "cell_tags = np.full(msh.topology.index_map(2).size_local, -1, dtype=np.int32)\n",
    "cell_tags[middle_cells] = 1\n",
    "cell_tags[bulk_cells] = 2  \n",
    "\n",
    "msh.topology.create_connectivity(2, 0)\n",
    "\n",
    "cell_markers = mesh.meshtags(msh, 2, np.concatenate([middle_cells, bulk_cells]),\n",
    "                 np.concatenate([np.full(len(middle_cells), 1, dtype=np.int32),\n",
    "                                 np.full(len(bulk_cells), 2, dtype=np.int32)]))\n",
    "\n",
    "\n",
    "        "
   ]
  },
  {
   "cell_type": "code",
   "execution_count": 4,
   "metadata": {},
   "outputs": [
    {
     "data": {
      "text/plain": [
       "array([1, 1, 1, ..., 2, 2, 2], shape=(50000,), dtype=int32)"
      ]
     },
     "execution_count": 4,
     "metadata": {},
     "output_type": "execute_result"
    }
   ],
   "source": [
    "# domain = mesh.create_unit_square(MPI.COMM_WORLD, nx, ny,cell_type=mesh.CellType.quadrilateral)\n",
    "\n",
    "# msh, cell_markers, facet_markers = gmshio.read_from_msh(\"randomInclusions2DCirlce.msh\", MPI.COMM_WORLD, gdim=2)\n",
    "cell_tags = np.full(msh.topology.index_map(2).size_local, -1, dtype=np.int32)\n",
    "\n",
    "V = fem.functionspace(msh, element = (\"CG\", 1, (2,)) )\n",
    "\n",
    "u = ufl.TrialFunction(V)\n",
    "v = ufl.TestFunction(V)\n",
    "\n",
    "\n",
    "cell_markers.values"
   ]
  },
  {
   "cell_type": "code",
   "execution_count": 5,
   "metadata": {},
   "outputs": [],
   "source": [
    "def clamped_boundary(x):\n",
    "    \n",
    "    return  np.isclose(x[1], 0.0)\n",
    "    # return np.isclose(x[1],0)\n",
    "def clamped_boundary2(x):\n",
    "    # if True in (np.isclose(x[1],0.01) & np.isclose(x[0], 0.01)):\n",
    "    #     print('True')\n",
    "    return np.isclose(x[1],0.01)\n",
    "def clamped_boundary3(x):\n",
    "    return np.isclose(x[0],0) \n",
    "\n",
    "def clamped_boundary4(x):\n",
    "    return np.isclose(x[0], num_inc*0.01)\n",
    "\n",
    "def clamped_boundary0(x):\n",
    "    return np.isclose(x[0], 23131231) \n",
    "\n",
    "def traction_boundary(x):\n",
    "    return np.isclose(x[1],  0)\n",
    "\n",
    "def traction_boundary2(x):\n",
    "    return np.isclose(x[1],  0.01)\n",
    "\n",
    "def traction_boundary3(x):\n",
    "    return np.isclose(x[0], 0)\n",
    "\n",
    "def traction_boundary4(x):\n",
    "    return np.isclose(x[0], 0.01)\n",
    "\n",
    "\n",
    "\n",
    "fdim =msh.topology.dim - 1\n",
    "boundary_facets = mesh.locate_entities_boundary(msh, fdim, clamped_boundary)\n",
    "boundary_facets2 = mesh.locate_entities_boundary(msh, fdim, clamped_boundary2)\n",
    "boundary_facets3 = mesh.locate_entities_boundary(msh, fdim, clamped_boundary3)\n",
    "boundary_facets4 = mesh.locate_entities_boundary(msh, fdim, clamped_boundary4)\n",
    "boundary_facets0 = mesh.locate_entities_boundary(msh, fdim, clamped_boundary0)"
   ]
  },
  {
   "cell_type": "code",
   "execution_count": 6,
   "metadata": {},
   "outputs": [],
   "source": [
    "u_D1 = np.array([0.00001,0.00], dtype=default_scalar_type)\n",
    "\n",
    "# u_D1 = fem.Constant(msh, PETSc.ScalarType(0.0))\n",
    "bc1 = fem.dirichletbc(u_D1, fem.locate_dofs_topological(V, fdim, boundary_facets3), V)\n",
    "\n",
    "\n",
    "u_D2 = np.array([-0.00001,-0.00], dtype=default_scalar_type)\n",
    "bc2 = fem.dirichletbc(u_D2, fem.locate_dofs_topological(V, fdim, boundary_facets4), V)\n",
    "\n",
    "\n",
    "# u_D3 = np.array([0.0,0.0000000000], dtype=default_scalar_type)\n",
    "# def f_bc(x):\n",
    "#     zero = fem.Constant(msh, default_scalar_type((1, 0)))\n",
    "#     return ufl.dot(x, zero)\n",
    "\n",
    "# x = SpatialCoordinate(msh)\n",
    "# f_bc = lambda x: ufl.as_vector(np.stack((x[0],np.zeros_like(x[0]))))\n",
    "\n",
    "\n",
    "# ubc = f_bc(x)\n",
    "# def u_b3_exp(x):\n",
    "#     # print(x)\n",
    "#     # print(np.shape(np.vstack((x[0], np.zeros_like(x[0])))))\n",
    "#     # return np.vstack((x[0], np.zeros_like(x[0])),dtype=default_scalar_type)\n",
    "#     zero = fem.Constant(msh, default_scalar_type((1, 0)))\n",
    "#     return ufl.dot(x, zero)\n",
    "\n",
    "# u_b3_exp = ufl.as_vector([x[0],0])\n",
    "u_b3_func = fem.Function(V)\n",
    "# # d = f_bc(u)\n",
    "# u_b3_exp = fem.Expression(ubc\n",
    "#     ,\n",
    "#     V.element.interpolation_points(),\n",
    "    \n",
    "\n",
    "# u_b3_func.interpolate(lambda x: np.vstack([x[0],np.zeros_like(x[0])], dtype=default_scalar_type),fem.locate_dofs_topological(V, fdim, boundary_facets3))\n",
    "# # u_b3_func.interpolate(lambda x: np.stack((x[0], 0)))\n",
    "# print(u_b3_func.x.array.shape)\n",
    "# bc3 = fem.dirichletbc(u_b3_func, fem.locate_dofs_topological(V, fdim, boundary_facets3), V)\n",
    "\n",
    "# def f2(x): \n",
    "#     return -x[0]\n",
    "\n",
    "# # u_D4 =  np.array([0,-0.0000000000], dtype=default_scalar_type)\n",
    "# u_b4 = fem.Function(V)\n",
    "# u_b4.interpolate(f2)\n",
    "# bc4 = fem.dirichletbc(u_b4, fem.locate_dofs_topological(V, fdim, boundary_facets4), V)\n",
    "\n",
    "\n",
    "bc0 = fem.dirichletbc( np.array([0,-0.0000000000], dtype=default_scalar_type), fem.locate_dofs_topological(V, fdim, boundary_facets0), V)\n",
    "\n",
    "traction_boundary_facets1 = mesh.locate_entities_boundary(msh, fdim, traction_boundary)\n",
    "traction_boundary_facets2 = mesh.locate_entities_boundary(msh, fdim, traction_boundary2)\n",
    "traction_boundary_facets3 = mesh.locate_entities_boundary(msh, fdim, traction_boundary3)\n",
    "traction_boundary_facets4 = mesh.locate_entities_boundary(msh, fdim, traction_boundary4)\n",
    "\n",
    "facet_markers1 = np.full(len(traction_boundary_facets1), 1, dtype=np.int32)\n",
    "facet_markers2 = np.full(len(traction_boundary_facets2), 2, dtype=np.int32)\n",
    "facet_markers3 = np.full(len(traction_boundary_facets3), 3, dtype=np.int32)\n",
    "facet_markers4 = np.full(len(traction_boundary_facets4), 4, dtype=np.int32)\n",
    "\n",
    "\n",
    "facet_tags1 = mesh.meshtags(msh, fdim, traction_boundary_facets1,facet_markers1)\n",
    "facet_tags2 = mesh.meshtags(msh, fdim, traction_boundary_facets2,facet_markers2)\n",
    "facet_tags3 = mesh.meshtags(msh, fdim, traction_boundary_facets3,facet_markers3)\n",
    "facet_tags4 = mesh.meshtags(msh, fdim, traction_boundary_facets4,facet_markers4)\n",
    "\n",
    "\n",
    "combined_facets = np.concatenate([traction_boundary_facets1, traction_boundary_facets2,traction_boundary_facets3, traction_boundary_facets4])\n",
    "combined_markers = np.concatenate([facet_markers1, facet_markers2, facet_markers3, facet_markers4])\n",
    "\n",
    "facet_tags = mesh.meshtags(msh, fdim, combined_facets, combined_markers)\n",
    "\n",
    "\n",
    "\n"
   ]
  },
  {
   "cell_type": "markdown",
   "metadata": {},
   "source": []
  },
  {
   "cell_type": "code",
   "execution_count": 7,
   "metadata": {},
   "outputs": [],
   "source": [
    "Elastic_func_space = fem.functionspace(msh,(\"DG\",0))\n",
    "\n",
    "\n",
    "E = fem.Function(Elastic_func_space)\n",
    "nu = fem.Function(Elastic_func_space)\n",
    "\n",
    "\n",
    "# E.x.array[:] = np.where(cell_markers.values == 1, E_inclusion, E_bulk)\n",
    "\n",
    "E.x.array[middle_cells] =np.full_like(middle_cells,E_inclusion, dtype=default_scalar_type)\n",
    "E.x.array[bulk_cells] =np.full_like(bulk_cells,E_bulk, dtype=default_scalar_type)\n",
    "\n",
    "nu.x.array[middle_cells] = np.full_like(middle_cells,nu_inclusion, dtype=default_scalar_type)\n",
    "nu.x.array[bulk_cells] = np.full_like(bulk_cells,nu_bulk, dtype=default_scalar_type)\n",
    "\n",
    "\n",
    "for index,val in enumerate(E.x.array):\n",
    "    if val == 0:\n",
    "       E.x.array[index] = E_bulk\n",
    "       nu.x.array[index] = nu_bulk\n",
    "if 0 in E.x.array:\n",
    "    assert False, \"E is zero\""
   ]
  },
  {
   "cell_type": "code",
   "execution_count": 8,
   "metadata": {},
   "outputs": [],
   "source": [
    "ds = ufl.Measure(\"ds\", domain=msh, subdomain_data=facet_tags )\n",
    "\n",
    "# plane strain\n",
    "lam = E*nu/((1+nu)*(1-2*nu))\n",
    "mu = E/(2*(1+nu))\n",
    "\n",
    "# plane stress\n",
    "# lambda_ = 2*lam*mu/(lam + 2*mu)\n",
    "lambda_ = E*nu/(1-nu**2)\n",
    "\n",
    "\n",
    "\n",
    "def epsilon(u):\n",
    "    return 0.5*(ufl.nabla_grad(u) + ufl.nabla_grad(u).T)\n",
    "    \n",
    "\n",
    "def sigma(u):\n",
    "    return lam * ufl.tr(epsilon(u)) * ufl.Identity(len(u)) + 2 * mu * epsilon(u)\n",
    "\n",
    "    "
   ]
  },
  {
   "cell_type": "code",
   "execution_count": 9,
   "metadata": {},
   "outputs": [],
   "source": [
    "\n",
    "T = fem.Constant(msh, default_scalar_type(traction))\n",
    "\n",
    "T2 = fem.Constant(msh, default_scalar_type(traction2))\n",
    "\n",
    "T3= fem.Constant(msh, default_scalar_type(traction3))\n",
    "T4 = fem.Constant(msh, default_scalar_type(traction4))\n",
    "\n",
    "\n",
    "\n",
    "\n",
    "f = fem.Constant(msh, default_scalar_type((0, 0)))\n",
    "\n",
    "a = ufl.inner(sigma(u), epsilon(v)) * ufl.dx\n",
    "L = ufl.dot(f, v) * ufl.dx + ufl.dot(T, v) *ds(1)  + ufl.dot(T2, v) *ds(2) + ufl.dot(T3, v) *ds(3) + ufl.dot(T4, v) *ds(4)\n",
    "# L = ufl.dot(f, v) * ufl.dx  \n",
    "\n",
    "problem = LinearProblem(a, L, bcs=[bc1,bc2], petsc_options={\"ksp_type\": \"preonly\", \"pc_type\": \"lu\"})\n",
    "uh = problem.solve()\n",
    "\n"
   ]
  },
  {
   "cell_type": "code",
   "execution_count": 10,
   "metadata": {},
   "outputs": [
    {
     "data": {
      "text/plain": [
       "(<FieldAssociation.CELL: 1>,\n",
       " pyvista_ndarray([1.e+10, 1.e+10, 1.e+10, ..., 1.e+10, 1.e+10, 1.e+10],\n",
       "                 shape=(62500,)))"
      ]
     },
     "execution_count": 10,
     "metadata": {},
     "output_type": "execute_result"
    }
   ],
   "source": [
    "\n",
    "topology, cell_types, geometry = plot.vtk_mesh(V)\n",
    "g = pyvista.UnstructuredGrid(topology, cell_types, geometry)\n",
    "\n",
    "g.point_data[\"u\"] = uh.x.array.reshape((geometry.shape[0], 2))\n",
    "\n",
    "if g.point_data['u'].shape[1] == 2:\n",
    "    g.point_data['u'] = np.hstack((g.point_data['u'], np.zeros((geometry.shape[0], 1))))\n",
    "g.point_data['u']\n",
    "warped = g.warp_by_vector(\"u\", factor=5)\n",
    "g.cell_data[\"E\"] = E.x.array\n",
    "g.set_active_scalars(\"E\")\n"
   ]
  },
  {
   "cell_type": "code",
   "execution_count": null,
   "metadata": {},
   "outputs": [],
   "source": []
  },
  {
   "cell_type": "code",
   "execution_count": 11,
   "metadata": {},
   "outputs": [
    {
     "name": "stderr",
     "output_type": "stream",
     "text": [
      "MESA: error: ZINK: failed to choose pdev\n",
      "glx: failed to create drisw screen\n"
     ]
    },
    {
     "data": {
      "application/vnd.jupyter.widget-view+json": {
       "model_id": "cc1357b792fb40fd9fee424e7ce5be7f",
       "version_major": 2,
       "version_minor": 0
      },
      "text/plain": [
       "EmbeddableWidget(value='<iframe srcdoc=\"<!DOCTYPE html>\\n<html>\\n  <head>\\n    <meta http-equiv=&quot;Content-…"
      ]
     },
     "metadata": {},
     "output_type": "display_data"
    }
   ],
   "source": [
    "pyvista.start_xvfb()\n",
    "pyvista.set_jupyter_backend('html')\n",
    "\n",
    "plotter = pyvista.Plotter()\n",
    "plotter.add_mesh(g,show_edges=False)\n",
    "# plotter.add_mesh(warped, show_edges=False,cmap  ='jet')\n",
    "plotter.view_xy()\n",
    "plotter.show()\n"
   ]
  },
  {
   "cell_type": "code",
   "execution_count": 12,
   "metadata": {},
   "outputs": [],
   "source": [
    "s_indicies = [0,0]\n",
    "\n",
    "s_indicies_all = {'[0, 0]':'11','[0, 1]':'12','[1, 1]':'22'}\n"
   ]
  },
  {
   "cell_type": "code",
   "execution_count": 13,
   "metadata": {},
   "outputs": [],
   "source": [
    "s = sigma(uh)[s_indicies[0],s_indicies[1]]\n",
    "eps = epsilon(uh)[s_indicies[0],s_indicies[1]]"
   ]
  },
  {
   "cell_type": "code",
   "execution_count": 14,
   "metadata": {},
   "outputs": [],
   "source": [
    "V_interp = fem.functionspace(msh, (\"CG\",1))\n",
    "\n",
    "stresses = fem.Function(V_interp)\n",
    "strains = fem.Function(V_interp)\n",
    "\n",
    "\n",
    "stress_expr = fem.Expression(s, V_interp.element.interpolation_points())\n",
    "strains_expr = fem.Expression(eps, V_interp.element.interpolation_points())\n",
    "\n",
    "\n",
    "stresses.interpolate(stress_expr)\n",
    "strains.interpolate(strains_expr)\n",
    "\n",
    "topology, cell_types, geometry = plot.vtk_mesh(V_interp)\n",
    "\n",
    "\n"
   ]
  },
  {
   "cell_type": "code",
   "execution_count": 15,
   "metadata": {},
   "outputs": [
    {
     "name": "stdout",
     "output_type": "stream",
     "text": [
      "(63001, 3) (126002,) (63001,)\n"
     ]
    },
    {
     "name": "stderr",
     "output_type": "stream",
     "text": [
      "MESA: error: ZINK: failed to choose pdev\n",
      "glx: failed to create drisw screen\n",
      "D3D12: Removing Device.\n"
     ]
    },
    {
     "data": {
      "application/vnd.jupyter.widget-view+json": {
       "model_id": "831b092d14be416e82e87f44f01f55f2",
       "version_major": 2,
       "version_minor": 0
      },
      "text/plain": [
       "EmbeddableWidget(value='<iframe srcdoc=\"<!DOCTYPE html>\\n<html>\\n  <head>\\n    <meta http-equiv=&quot;Content-…"
      ]
     },
     "metadata": {},
     "output_type": "display_data"
    }
   ],
   "source": [
    "\n",
    "\n",
    "grid_s = pyvista.UnstructuredGrid(topology, cell_types, geometry)\n",
    "\n",
    "legend_name = \"S\" + s_indicies_all[str(s_indicies)]\n",
    "\n",
    "grid_s.point_data[legend_name] = stresses.x.petsc_vec.array\n",
    "\n",
    "\n",
    "print(geometry.shape,uh.x.array.shape,stresses.x.array.shape)\n",
    "\n",
    "grid_s.point_data[\"u\"] = uh.x.array.reshape((geometry.shape[0], 2))\n",
    "\n",
    "if grid_s.point_data['u'].shape[1] == 2:\n",
    "    grid_s.point_data['u'] = np.hstack((grid_s.point_data['u'], np.zeros((geometry.shape[0], 1))))\n",
    "grid_s.point_data['u']\n",
    "\n",
    "warped = grid_s.warp_by_vector(\"u\", factor=100)\n",
    "\n",
    "\n",
    "\n",
    "\n",
    "# print(geometry)\n",
    "\n",
    "grid_s.set_active_scalars(legend_name)\n",
    "\n",
    "p = pyvista.Plotter()\n",
    "# warped.set_active_scalars(legend_name)\n",
    "\n",
    "# p.add_mesh(grid_s,show_edges=False,cmap = \"jet\")\n",
    "\n",
    "p.add_mesh(warped,show_edges=False,cmap = \"jet\")\n",
    "\n",
    "\n",
    "p.show_axes()\n",
    "p.view_xy()\n",
    "p.show()\n",
    "\n"
   ]
  },
  {
   "cell_type": "code",
   "execution_count": 16,
   "metadata": {},
   "outputs": [
    {
     "data": {
      "text/plain": [
       "((63001, 3), (63001,), (63001,))"
      ]
     },
     "execution_count": 16,
     "metadata": {},
     "output_type": "execute_result"
    }
   ],
   "source": [
    "geometry.shape, stresses.x.array.shape,strains.x.array.shape\n",
    "\n"
   ]
  },
  {
   "cell_type": "code",
   "execution_count": 17,
   "metadata": {},
   "outputs": [
    {
     "name": "stdout",
     "output_type": "stream",
     "text": [
      "value of integral: -656817064.0954846 -0.05000000000000039\n",
      "value of integral: -92000415.82483838 0.02141250769646042\n",
      "value of integral: 2.8327735712707636e-05 3.648537616254271e-15\n"
     ]
    },
    {
     "data": {
      "text/plain": [
       "(array([[-1.05048687e+06],\n",
       "        [-1.48382172e+05],\n",
       "        [ 4.19704648e-08]]),\n",
       " array([[-7.99491249e-05],\n",
       "        [ 3.41561794e-05],\n",
       "        [ 1.07068738e-17]]))"
      ]
     },
     "execution_count": 17,
     "metadata": {},
     "output_type": "execute_result"
    }
   ],
   "source": [
    "indices = [[0,0],[1,1],[0,1]]\n",
    "\n",
    "stresses = fem.Function(V_interp)\n",
    "strains = fem.Function(V_interp)\n",
    "\n",
    "S_arr  = []\n",
    "Eps_arr = []\n",
    "\n",
    "for s_index in indices:\n",
    " \n",
    "    s_indices = s_index\n",
    "\n",
    "    s = sigma(uh)[s_indices[0],s_indices[1]]\n",
    "    # print(s)\n",
    "    eps = epsilon(uh)[s_indices[0],s_indices[1]]\n",
    "    integral_stress = fem.assemble_scalar(fem.form(s * ufl.dx))/(0.01)**2\n",
    "    intergal_strain = fem.assemble_scalar(fem.form(eps * ufl.dx))/(0.01)**2\n",
    "    print('value of integral:',integral_stress, intergal_strain)\n",
    "\n",
    "    stress_expr = fem.Expression(s, V_interp.element.interpolation_points())\n",
    "    strains_expr = fem.Expression(eps, V_interp.element.interpolation_points())\n",
    "\n",
    "\n",
    "    stresses.interpolate(stress_expr)\n",
    "    strains.interpolate(strains_expr)\n",
    "\n",
    "    \n",
    "    S_arr.append(np.mean(stresses.x.petsc_vec.array.copy()))\n",
    "    if s_indices[0] == 0 and s_indices[1] == 1:\n",
    "        Eps_arr.append(np.mean(2*strains.x.petsc_vec.array.copy()))\n",
    "    else:\n",
    "        Eps_arr.append(np.mean(strains.x.petsc_vec.array.copy()))\n",
    "\n",
    "S = np.vstack((S_arr[0],S_arr[1],S_arr[2]))\n",
    "Eps = np.vstack((Eps_arr[0],Eps_arr[1],Eps_arr[2]))\n",
    "# topology, cell_types, geometry = plot.vtk_mesh(V_interp)\n",
    "S,Eps\n",
    "\n",
    "# .0001"
   ]
  },
  {
   "cell_type": "code",
   "execution_count": null,
   "metadata": {},
   "outputs": [],
   "source": [
    "\n"
   ]
  },
  {
   "cell_type": "code",
   "execution_count": null,
   "metadata": {},
   "outputs": [],
   "source": []
  }
 ],
 "metadata": {
  "kernelspec": {
   "display_name": "fenicsx-env",
   "language": "python",
   "name": "python3"
  },
  "language_info": {
   "codemirror_mode": {
    "name": "ipython",
    "version": 3
   },
   "file_extension": ".py",
   "mimetype": "text/x-python",
   "name": "python",
   "nbconvert_exporter": "python",
   "pygments_lexer": "ipython3",
   "version": "3.13.2"
  }
 },
 "nbformat": 4,
 "nbformat_minor": 2
}
